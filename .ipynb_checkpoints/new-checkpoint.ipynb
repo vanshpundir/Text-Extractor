{
 "cells": [
  {
   "cell_type": "code",
   "execution_count": 1,
   "id": "97d83ce5-25ea-411a-9728-c20f2b2744fd",
   "metadata": {},
   "outputs": [],
   "source": [
    "    # !pip install paddleclas"
   ]
  },
  {
   "cell_type": "code",
   "execution_count": 101,
   "id": "144cb57c",
   "metadata": {
    "scrolled": true
   },
   "outputs": [
    {
     "name": "stdout",
     "output_type": "stream",
     "text": [
      "[2023/10/12 16:50:18] ppocr DEBUG: Namespace(alpha=1.0, alphacolor=(255, 255, 255), benchmark=False, beta=1.0, binarize=False, cls_batch_num=6, cls_image_shape='3, 48, 192', cls_model_dir=None, cls_thresh=0.9, cpu_threads=10, crop_res_save_dir='./output', det=True, det_algorithm='DB', det_box_type='quad', det_db_box_thresh=0.6, det_db_score_mode='fast', det_db_thresh=0.3, det_db_unclip_ratio=1.5, det_east_cover_thresh=0.1, det_east_nms_thresh=0.2, det_east_score_thresh=0.8, det_limit_side_len=960, det_limit_type='max', det_model_dir='/home/shivam/.paddleocr/whl/det/ch/ch_PP-OCRv4_det_infer', det_pse_box_thresh=0.85, det_pse_min_area=16, det_pse_scale=1, det_pse_thresh=0, det_sast_nms_thresh=0.2, det_sast_score_thresh=0.5, draw_img_save_dir='./inference_results', drop_score=0.5, e2e_algorithm='PGNet', e2e_char_dict_path='./ppocr/utils/ic15_dict.txt', e2e_limit_side_len=768, e2e_limit_type='max', e2e_model_dir=None, e2e_pgnet_mode='fast', e2e_pgnet_score_thresh=0.5, e2e_pgnet_valid_set='totaltext', enable_mkldnn=False, fourier_degree=5, gpu_id=0, gpu_mem=500, help='==SUPPRESS==', image_dir=None, image_orientation=True, invert=False, ir_optim=True, kie_algorithm='LayoutXLM', label_list=['0', '180'], lang='ch', layout=True, layout_dict_path='/home/shivam/.local/lib/python3.8/site-packages/paddleocr/ppocr/utils/dict/layout_dict/layout_cdla_dict.txt', layout_model_dir='/home/shivam/.paddleocr/whl/layout/picodet_lcnet_x1_0_fgd_layout_cdla_infer', layout_nms_threshold=0.5, layout_score_threshold=0.5, max_batch_size=10, max_text_length=25, merge_no_span_structure=True, min_subgraph_size=15, mode='structure', ocr=True, ocr_order_method=None, ocr_version='PP-OCRv4', output='./output', page_num=0, precision='fp32', process_id=0, re_model_dir=None, rec=True, rec_algorithm='SVTR_LCNet', rec_batch_num=6, rec_char_dict_path='/home/shivam/.local/lib/python3.8/site-packages/paddleocr/ppocr/utils/ppocr_keys_v1.txt', rec_image_inverse=True, rec_image_shape='3, 48, 320', rec_model_dir='/home/shivam/.paddleocr/whl/rec/ch/ch_PP-OCRv4_rec_infer', recovery=False, save_crop_res=False, save_log_path='./log_output/', scales=[8, 16, 32], ser_dict_path='../train_data/XFUND/class_list_xfun.txt', ser_model_dir=None, show_log=True, sr_batch_num=1, sr_image_shape='3, 32, 128', sr_model_dir=None, structure_version='PP-StructureV2', table=True, table_algorithm='TableAttn', table_char_dict_path='/home/shivam/.local/lib/python3.8/site-packages/paddleocr/ppocr/utils/dict/table_structure_dict_ch.txt', table_max_len=488, table_model_dir='/home/shivam/.paddleocr/whl/table/ch_ppstructure_mobile_v2.0_SLANet_infer', total_process_num=1, type='ocr', use_angle_cls=False, use_dilation=False, use_gpu=False, use_mp=False, use_npu=False, use_onnx=False, use_pdf2docx_api=False, use_pdserving=False, use_space_char=True, use_tensorrt=False, use_visual_backbone=True, use_xpu=False, vis_font_path='./doc/fonts/simfang.ttf', warmup=False)\n",
      "[2023/10/12 16:50:18] ppcls WARNING: The current running environment does not support the use of GPU. CPU has been used instead.\n",
      "[2023/10/12 16:50:21] ppocr DEBUG: dt_boxes num : 41, elapsed : 0.9713320732116699\n",
      "[2023/10/12 16:50:35] ppocr DEBUG: rec_res num  : 41, elapsed : 14.026849746704102\n",
      "[2023/10/12 16:50:35] ppocr DEBUG: dt_boxes num : 1, elapsed : 0.3346271514892578\n",
      "[2023/10/12 16:50:36] ppocr DEBUG: rec_res num  : 1, elapsed : 0.6224021911621094\n",
      "[2023/10/12 16:50:36] ppocr DEBUG: dt_boxes num : 7, elapsed : 0.18845558166503906\n",
      "[2023/10/12 16:50:41] ppocr DEBUG: rec_res num  : 7, elapsed : 4.65079927444458\n",
      "[2023/10/12 16:50:41] ppocr DEBUG: dt_boxes num : 1, elapsed : 0.05703926086425781\n",
      "[2023/10/12 16:50:41] ppocr DEBUG: rec_res num  : 1, elapsed : 0.3617410659790039\n",
      "[2023/10/12 16:50:41] ppocr DEBUG: dt_boxes num : 10, elapsed : 0.03262686729431152\n",
      "[2023/10/12 16:50:42] ppocr DEBUG: rec_res num  : 10, elapsed : 1.0171701908111572\n",
      "{'type': 'figure', 'bbox': [34, 57, 2460, 2294], 'res': [{'text': 'KSCA EVENT CODE :', 'confidence': 0.9711802005767822, 'text_region': [[1517.0, 162.0], [2094.0, 162.0], [2094.0, 212.0], [1517.0, 212.0]]}, {'text': 'S3', 'confidence': 0.22693616151809692, 'text_region': [[1318.0, 192.0], [1361.0, 192.0], [1361.0, 209.0], [1318.0, 209.0]]}, {'text': 'KSCA/G023/2324', 'confidence': 0.9986882209777832, 'text_region': [[1517.0, 229.0], [1939.0, 229.0], [1939.0, 272.0], [1517.0, 272.0]]}, {'text': 'ist BRDCA STATE', 'confidence': 0.8976009488105774, 'text_region': [[167.0, 239.0], [1050.0, 255.0], [1049.0, 347.0], [165.0, 331.0]]}, {'text': '(UNDER THE AUSPICES OF KSCA)', 'confidence': 0.9909616708755493, 'text_region': [[1515.0, 337.0], [2298.0, 337.0], [2298.0, 379.0], [1515.0, 379.0]]}, {'text': 'LEVELINTER-', 'confidence': 0.9766611456871033, 'text_region': [[213.0, 354.0], [994.0, 354.0], [994.0, 429.0], [213.0, 429.0]]}, {'text': 'SC', 'confidence': 0.7649497985839844, 'text_region': [[1313.0, 412.0], [1389.0, 412.0], [1389.0, 439.0], [1313.0, 439.0]]}, {'text': 'SCHOOLCHESS', 'confidence': 0.9960600137710571, 'text_region': [[181.0, 451.0], [1032.0, 451.0], [1032.0, 526.0], [181.0, 526.0]]}, {'text': 'ORGANISED BY:', 'confidence': 0.9569186568260193, 'text_region': [[1520.0, 451.0], [1975.0, 451.0], [1975.0, 494.0], [1520.0, 494.0]]}, {'text': 'TOURNAMIENT2023', 'confidence': 0.953025758266449, 'text_region': [[120.0, 549.0], [1090.0, 549.0], [1090.0, 616.0], [120.0, 616.0]]}, {'text': 'BANGALORERURAL', 'confidence': 0.9862571954727173, 'text_region': [[1520.0, 559.0], [1998.0, 559.0], [1998.0, 594.0], [1520.0, 594.0]]}, {'text': 'DISTRICT CHESS ASSOCIATION(R)', 'confidence': 0.9971668720245361, 'text_region': [[1515.0, 606.0], [2324.0, 609.0], [2323.0, 659.0], [1515.0, 656.0]]}, {'text': 'FRIDAY 18th AUGUST 2023', 'confidence': 0.9719423055648804, 'text_region': [[130.0, 731.0], [1118.0, 734.0], [1118.0, 811.0], [130.0, 808.0]]}, {'text': 'VENUE:SRI MANJUNATHA SWAMY', 'confidence': 0.9355786442756653, 'text_region': [[1343.0, 783.0], [2212.0, 789.0], [2212.0, 839.0], [1343.0, 833.0]]}, {'text': 'KALYANAMANTAPA', 'confidence': 0.9802090525627136, 'text_region': [[1543.0, 853.0], [2015.0, 853.0], [2015.0, 888.0], [1543.0, 888.0]]}, {'text': 'LAST DATE FOR ENTRY 15th AUGUST 2023', 'confidence': 0.9724820256233215, 'text_region': [[110.0, 888.0], [1148.0, 883.0], [1149.0, 933.0], [110.0, 938.0]]}, {'text': 'WHITEFIELD-HOSAKOTE MAINROAD', 'confidence': 0.9785735011100769, 'text_region': [[1320.0, 901.0], [2240.0, 903.0], [2240.0, 946.0], [1320.0, 943.0]]}, {'text': 'HOSAKOTEBANGALORE-560049', 'confidence': 0.989772617816925, 'text_region': [[1399.0, 963.0], [2164.0, 963.0], [2164.0, 998.0], [1399.0, 998.0]]}, {'text': 'ROUNDSTARTSAT 09.30AM', 'confidence': 0.9647650718688965, 'text_region': [[266.0, 988.0], [999.0, 988.0], [999.0, 1031.0], [266.0, 1031.0]]}, {'text': 'CATEGORIESFORINDIVIDUALBOYSAND GIRLSSEPARATE', 'confidence': 0.9713786840438843, 'text_region': [[590.0, 1096.0], [1919.0, 1096.0], [1919.0, 1138.0], [590.0, 1138.0]]}, {'text': 'THETOURNAMENT WILLBECONDUCTEDSEPARATELYFORBOYSAND GIRLS', 'confidence': 0.9614635109901428, 'text_region': [[502.0, 1158.0], [2010.0, 1158.0], [2010.0, 1200.0], [502.0, 1200.0]]}, {'text': '1. CATEGORY : IISTD/ CLASS / GRADE AND BELOW', 'confidence': 0.9397398233413696, 'text_region': [[145.0, 1218.0], [1083.0, 1218.0], [1083.0, 1253.0], [145.0, 1253.0]]}, {'text': '2. CATEGORY : III AND IV STD / CLASS /GRADE', 'confidence': 0.9573415517807007, 'text_region': [[143.0, 1265.0], [974.0, 1265.0], [974.0, 1308.0], [143.0, 1308.0]]}, {'text': 'BOYS TOP 5 TROPHIES&6TH-10TH', 'confidence': 0.9257873892784119, 'text_region': [[1426.0, 1265.0], [2270.0, 1265.0], [2270.0, 1308.0], [1426.0, 1308.0]]}, {'text': '', 'confidence': 0.0, 'text_region': [[1247.0, 1305.0], [1338.0, 1305.0], [1338.0, 1378.0], [1247.0, 1378.0]]}, {'text': '3. CATEGORY : V and VI STD / CLASS /GRADE', 'confidence': 0.9596766233444214, 'text_region': [[143.0, 1320.0], [951.0, 1320.0], [951.0, 1363.0], [143.0, 1363.0]]}, {'text': 'PRIZES-MEDALS.', 'confidence': 0.9860974550247192, 'text_region': [[1426.0, 1320.0], [1848.0, 1320.0], [1848.0, 1363.0], [1426.0, 1363.0]]}, {'text': '4. CATEGORY : VII ,VIII, STD/ CLASS /GRADE', 'confidence': 0.9350637793540955, 'text_region': [[140.0, 1373.0], [944.0, 1370.0], [944.0, 1413.0], [140.0, 1415.0]]}, {'text': '5. CATEGORY : IX, X, XI AND XII STD/CLASS/GRADE.', 'confidence': 0.9677082896232605, 'text_region': [[143.0, 1430.0], [1073.0, 1430.0], [1073.0, 1465.0], [143.0, 1465.0]]}, {'text': 'PRIZES GIRLS TOP 5 TROPHIES & 6TH - 10TH', 'confidence': 0.9721137285232544, 'text_region': [[1196.0, 1428.0], [2290.0, 1420.0], [2291.0, 1472.0], [1197.0, 1480.0]]}, {'text': 'PRIZES-MEDALS.', 'confidence': 0.9948469996452332, 'text_region': [[1429.0, 1488.0], [1851.0, 1488.0], [1851.0, 1523.0], [1429.0, 1523.0]]}, {'text': 'PLEASENOTE:LOWERSTD/GRADE/CLASSSTUDENTS', 'confidence': 0.9787192940711975, 'text_region': [[145.0, 1535.0], [1093.0, 1535.0], [1093.0, 1570.0], [145.0, 1570.0]]}, {'text': 'ARE NOT ALLOWED TO PLAY IN HIGHER STD/GRADE/CLASS CATEGORY', 'confidence': 0.9302687644958496, 'text_region': [[143.0, 1585.0], [1416.0, 1585.0], [1416.0, 1627.0], [143.0, 1627.0]]}, {'text': 'TOTALNOOFPRIZES-113', 'confidence': 0.9948833584785461, 'text_region': [[858.0, 1662.0], [1666.0, 1662.0], [1666.0, 1712.0], [858.0, 1712.0]]}, {'text': 'SCHOOL PRIZES:', 'confidence': 0.9874991774559021, 'text_region': [[153.0, 1767.0], [476.0, 1767.0], [476.0, 1810.0], [153.0, 1810.0]]}, {'text': ':TOP 3 SCHOOL PRIZES IN BOTH BOYS & GIRLS SECTION SEPARATELY GIVEN FOR SCHOOLS.', 'confidence': 0.9114207029342651, 'text_region': [[176.0, 1825.0], [1828.0, 1825.0], [1828.0, 1860.0], [176.0, 1860.0]]}, {'text': '(WINNER,RUNNER,RUNNERUP-BEAUTIFULGLITTERINGTROPHIES)', 'confidence': 0.9316018223762512, 'text_region': [[206.0, 1880.0], [1444.0, 1880.0], [1444.0, 1915.0], [206.0, 1915.0]]}, {'text': '(WHICH WON HIGHEST NO OF PRIZES IN THE 5 CATEGORIES OF BOYS AND GIRLS CATEGORY SEPARATELY)', 'confidence': 0.9673528075218201, 'text_region': [[203.0, 1929.0], [2116.0, 1929.0], [2116.0, 1972.0], [203.0, 1972.0]]}, {'text': 'BEST SCHOOL PRIZE : 4TH TO 1OTH PRIZE  (GREATER NO OF ENTRY FROM THE SCHOOL)', 'confidence': 0.9393028616905212, 'text_region': [[208.0, 1977.0], [1800.0, 1982.0], [1800.0, 2024.0], [208.0, 2019.0]]}, {'text': 'ENTRY FEE:- RS. 700/per Student', 'confidence': 0.9666708111763, 'text_region': [[815.0, 2102.0], [1659.0, 2104.0], [1659.0, 2154.0], [815.0, 2152.0]]}, {'text': 'ENTRYFEECANBEPAID@WWW.EASYPAYCHESS.COM', 'confidence': 0.9938921928405762, 'text_region': [[469.0, 2172.0], [2005.0, 2172.0], [2005.0, 2214.0], [469.0, 2214.0]]}], 'img_idx': 0}\n",
      "{'type': 'figure', 'bbox': [24, 2429, 2458, 3292], 'res': [{'text': 'CHIEFARBITER:K.MURUGASUNDARAM(FA)MO:9980852725', 'confidence': 0.9687213897705078, 'text_region': [[534.0, 2483.0], [1979.0, 2483.0], [1979.0, 2517.0], [534.0, 2517.0]]}], 'img_idx': 0}\n",
      "{'type': 'figure', 'bbox': [57, 1689, 2433, 2242], 'res': [{'text': 'SCHOOLPRIZES:', 'confidence': 0.9851070642471313, 'text_region': [[151.0, 1766.0], [473.0, 1766.0], [473.0, 1807.0], [151.0, 1807.0]]}, {'text': '1. TOP 3 SCHOOL PRIZES IN BOTH BOYS & GIRLS SECTION SEPARATELY GIVEN FOR SCHOOLS.', 'confidence': 0.9350578188896179, 'text_region': [[146.0, 1822.0], [1832.0, 1822.0], [1832.0, 1864.0], [146.0, 1864.0]]}, {'text': '(WINNER,RUNNER,RUNNERUP-BEAUTIFULGLITTERINGTROPHIES)', 'confidence': 0.9353545308113098, 'text_region': [[208.0, 1877.0], [1443.0, 1877.0], [1443.0, 1911.0], [208.0, 1911.0]]}, {'text': '(WHICH WON HIGHEST NO OF PRIZES IN THE 5 CATEGORIES OF BOYS AND GIRLS CATEGORY SEPARATELY)', 'confidence': 0.949309766292572, 'text_region': [[205.0, 1928.0], [2114.0, 1928.0], [2114.0, 1970.0], [205.0, 1970.0]]}, {'text': 'BEST SCHOOL PRIZE: 4TH TO 1OTH PRIZE (GREATER NO OF ENTRY FROM THE SCHOOL)', 'confidence': 0.9542234539985657, 'text_region': [[213.0, 1985.0], [1797.0, 1985.0], [1797.0, 2020.0], [213.0, 2020.0]]}, {'text': 'ENTRY FEE:-RS.700/perStudent', 'confidence': 0.9598140716552734, 'text_region': [[814.0, 2101.0], [1658.0, 2104.0], [1658.0, 2156.0], [814.0, 2153.0]]}, {'text': 'ENTRYFEECANBEPAID@WWW.EASYPAYCHESS.COM', 'confidence': 0.9911983609199524, 'text_region': [[468.0, 2170.0], [2005.0, 2170.0], [2005.0, 2212.0], [468.0, 2212.0]]}], 'img_idx': 0}\n",
      "{'type': 'figure_caption', 'bbox': [93, 1588, 1674, 1713], 'res': [{'text': 'INODALNOOEPRIZESETLR', 'confidence': 0.6510533690452576, 'text_region': [[860.0, 1670.0], [1661.0, 1670.0], [1661.0, 1703.0], [860.0, 1703.0]]}], 'img_idx': 0}\n",
      "{'type': 'figure_caption', 'bbox': [81, 2284, 2395, 2391], 'res': [{'text': 'enroll', 'confidence': 0.991938591003418, 'text_region': [[406.0, 2291.0], [515.0, 2291.0], [515.0, 2324.0], [406.0, 2324.0]]}, {'text': 'rom', 'confidence': 0.899023711681366, 'text_region': [[790.0, 2294.0], [860.0, 2294.0], [860.0, 2317.0], [790.0, 2317.0]]}, {'text': 'the', 'confidence': 0.9623304009437561, 'text_region': [[879.0, 2294.0], [934.0, 2294.0], [934.0, 2317.0], [879.0, 2317.0]]}, {'text': 'ctions', 'confidence': 0.9946577548980713, 'text_region': [[1455.0, 2294.0], [1573.0, 2294.0], [1573.0, 2317.0], [1455.0, 2317.0]]}, {'text': 'school', 'confidence': 0.9057404398918152, 'text_region': [[1600.0, 2294.0], [1720.0, 2294.0], [1720.0, 2317.0], [1600.0, 2317.0]]}, {'text': 'can', 'confidence': 0.9935413002967834, 'text_region': [[1744.0, 2294.0], [1804.0, 2294.0], [1804.0, 2317.0], [1744.0, 2317.0]]}, {'text': 'enroll:', 'confidence': 0.975387692451477, 'text_region': [[1817.0, 2287.0], [1947.0, 2287.0], [1947.0, 2321.0], [1817.0, 2321.0]]}, {'text': 'any number ', 'confidence': 0.9641889929771423, 'text_region': [[1935.0, 2287.0], [2200.0, 2287.0], [2200.0, 2331.0], [1935.0, 2331.0]]}, {'text': 'ofplayers', 'confidence': 0.981979489326477, 'text_region': [[2193.0, 2287.0], [2383.0, 2287.0], [2383.0, 2321.0], [2193.0, 2321.0]]}, {'text': 'ament', 'confidence': 0.9935693740844727, 'text_region': [[1891.0, 2348.0], [2021.0, 2348.0], [2021.0, 2381.0], [1891.0, 2381.0]]}], 'img_idx': 0}\n"
     ]
    }
   ],
   "source": [
    "import os\n",
    "import cv2\n",
    "from paddleocr import PPStructure,draw_structure_result,save_structure_res\n",
    "\n",
    "table_engine = PPStructure(show_log=True, image_orientation=True)\n",
    "\n",
    "save_folder = './output'\n",
    "img_path = '/home/shivam/Documents/CircleChess/output_images/3_1_images/page_1.png'\n",
    "img = cv2.imread(img_path)\n",
    "result = table_engine(img)\n",
    "save_structure_res(result, save_folder,os.path.basename(img_path).split('.')[0])\n",
    "\n",
    "for line in result:\n",
    "    line.pop('img')\n",
    "    print(line)\n",
    "\n",
    "from PIL import Image\n",
    "\n",
    "font_path = '/home/shivam/Documents/Github/PaddleOCR/doc/fonts/simfang.ttf' # PaddleOCR下提供字体包\n",
    "image = Image.open(img_path).convert('RGB')\n",
    "im_show = draw_structure_result(image, result,font_path=font_path)\n",
    "im_show = Image.fromarray(im_show)\n",
    "im_show.save('result.jpg')"
   ]
  },
  {
   "cell_type": "code",
   "execution_count": null,
   "id": "1e9db186-1954-4c8c-82d6-3254aa145a5c",
   "metadata": {},
   "outputs": [],
   "source": []
  },
  {
   "cell_type": "code",
   "execution_count": null,
   "id": "29b3946b-fbb8-4fd5-84f5-7ec3f118d51e",
   "metadata": {
    "scrolled": true
   },
   "outputs": [],
   "source": []
  },
  {
   "cell_type": "code",
   "execution_count": 97,
   "id": "d9e35436-95c5-4690-818f-925cea651b61",
   "metadata": {},
   "outputs": [],
   "source": [
    "from paddleocr import PaddleOCR, draw_ocr"
   ]
  },
  {
   "cell_type": "code",
   "execution_count": 102,
   "id": "df889185-5852-49ca-a02b-b9a546f8bc08",
   "metadata": {},
   "outputs": [
    {
     "name": "stdout",
     "output_type": "stream",
     "text": [
      "[2023/10/12 16:50:44] ppocr DEBUG: Namespace(alpha=1.0, alphacolor=(255, 255, 255), benchmark=False, beta=1.0, binarize=False, cls_batch_num=6, cls_image_shape='3, 48, 192', cls_model_dir='/home/shivam/.paddleocr/whl/cls/ch_ppocr_mobile_v2.0_cls_infer', cls_thresh=0.9, cpu_threads=10, crop_res_save_dir='./output', det=True, det_algorithm='DB', det_box_type='quad', det_db_box_thresh=0.6, det_db_score_mode='fast', det_db_thresh=0.3, det_db_unclip_ratio=1.5, det_east_cover_thresh=0.1, det_east_nms_thresh=0.2, det_east_score_thresh=0.8, det_limit_side_len=960, det_limit_type='max', det_model_dir='/home/shivam/.paddleocr/whl/det/en/en_PP-OCRv3_det_infer', det_pse_box_thresh=0.85, det_pse_min_area=16, det_pse_scale=1, det_pse_thresh=0, det_sast_nms_thresh=0.2, det_sast_score_thresh=0.5, draw_img_save_dir='./inference_results', drop_score=0.5, e2e_algorithm='PGNet', e2e_char_dict_path='./ppocr/utils/ic15_dict.txt', e2e_limit_side_len=768, e2e_limit_type='max', e2e_model_dir=None, e2e_pgnet_mode='fast', e2e_pgnet_score_thresh=0.5, e2e_pgnet_valid_set='totaltext', enable_mkldnn=False, fourier_degree=5, gpu_id=0, gpu_mem=500, help='==SUPPRESS==', image_dir=None, image_orientation=False, invert=False, ir_optim=True, kie_algorithm='LayoutXLM', label_list=['0', '180'], lang='en', layout=True, layout_dict_path=None, layout_model_dir=None, layout_nms_threshold=0.5, layout_score_threshold=0.5, max_batch_size=10, max_text_length=25, merge_no_span_structure=True, min_subgraph_size=15, mode='structure', ocr=True, ocr_order_method=None, ocr_version='PP-OCRv4', output='./output', page_num=0, precision='fp32', process_id=0, re_model_dir=None, rec=True, rec_algorithm='SVTR_LCNet', rec_batch_num=6, rec_char_dict_path='/home/shivam/.local/lib/python3.8/site-packages/paddleocr/ppocr/utils/en_dict.txt', rec_image_inverse=True, rec_image_shape='3, 48, 320', rec_model_dir='/home/shivam/.paddleocr/whl/rec/en/en_PP-OCRv4_rec_infer', recovery=False, save_crop_res=False, save_log_path='./log_output/', scales=[8, 16, 32], ser_dict_path='../train_data/XFUND/class_list_xfun.txt', ser_model_dir=None, show_log=True, sr_batch_num=1, sr_image_shape='3, 32, 128', sr_model_dir=None, structure_version='PP-StructureV2', table=True, table_algorithm='TableAttn', table_char_dict_path=None, table_max_len=488, table_model_dir=None, total_process_num=1, type='ocr', use_angle_cls=False, use_dilation=False, use_gpu=False, use_mp=False, use_npu=False, use_onnx=False, use_pdf2docx_api=False, use_pdserving=False, use_space_char=True, use_tensorrt=False, use_visual_backbone=True, use_xpu=False, vis_font_path='./doc/fonts/simfang.ttf', warmup=False)\n",
      "[2023/10/12 16:50:44] ppocr WARNING: Since the angle classifier is not initialized, it will not be used during the forward process\n",
      "[2023/10/12 16:50:45] ppocr DEBUG: dt_boxes num : 44, elapsed : 0.5793948173522949\n",
      "[2023/10/12 16:50:59] ppocr DEBUG: rec_res num  : 44, elapsed : 14.52323293685913\n"
     ]
    }
   ],
   "source": [
    "ocr = PaddleOCR(lang='en')\n",
    "image_path = '/home/shivam/Documents/CircleChess/output_images/3_1_images/page_1.png'\n",
    "image_cv = cv2.imread(image_path)\n",
    "image_height = image_cv.shape[0]\n",
    "image_width = image_cv.shape[1]\n",
    "output = ocr.ocr(image_path)[0]"
   ]
  },
  {
   "cell_type": "code",
   "execution_count": 133,
   "id": "04d3286f-fd7c-476b-8a12-2fc577b78979",
   "metadata": {},
   "outputs": [
    {
     "name": "stdout",
     "output_type": "stream",
     "text": [
      "[[[[1517.0, 161.0], [2096.0, 161.0], [2096.0, 212.0], [1517.0, 212.0]],\n",
      "  ('KSCA EVENT CODE :', 0.9989455938339233)],\n",
      " [[[1517.0, 219.0], [1941.0, 219.0], [1941.0, 281.0], [1517.0, 281.0]],\n",
      "  ('KSCA/G023/2324', 0.9998732209205627)],\n",
      " [[[167.0, 245.0], [1045.0, 256.0], [1044.0, 344.0], [166.0, 332.0]],\n",
      "  ('1 st BRDCA STATE', 0.9752196073532104)],\n",
      " [[[1517.0, 333.0], [2299.0, 333.0], [2299.0, 380.0], [1517.0, 380.0]],\n",
      "  ('(UNDER THE AUSPICES OF KSCA)', 0.9925102591514587)],\n",
      " [[[214.0, 358.0], [974.0, 358.0], [974.0, 431.0], [214.0, 431.0]],\n",
      "  ('LEVELINTER', 0.9869550466537476)],\n",
      " [[[173.0, 450.0], [1029.0, 446.0], [1030.0, 523.0], [174.0, 526.0]],\n",
      "  ('SCHOOL CHESS', 0.9561437964439392)],\n",
      " [[[1509.0, 450.0], [1974.0, 450.0], [1974.0, 497.0], [1509.0, 497.0]],\n",
      "  ('ORGANISED BY :', 0.9673970341682434)],\n",
      " [[[125.0, 541.0], [1089.0, 541.0], [1089.0, 614.0], [125.0, 614.0]],\n",
      "  ('TOURNAMENT 2023', 0.9910211563110352)],\n",
      " [[[1513.0, 552.0], [2004.0, 552.0], [2004.0, 599.0], [1513.0, 599.0]],\n",
      "  ('BANGALORE RURAL', 0.9983114004135132)],\n",
      " [[[1517.0, 607.0], [2325.0, 607.0], [2325.0, 654.0], [1517.0, 654.0]],\n",
      "  ('DISTRICT CHESS ASSOCIATION(R)', 0.978816568851471)],\n",
      " [[[133.0, 735.0], [1115.0, 735.0], [1115.0, 808.0], [133.0, 808.0]],\n",
      "  ('FRIDAY 18th AUGUST 2023', 0.9961848855018616)],\n",
      " [[[1343.0, 782.0], [2214.0, 786.0], [2214.0, 837.0], [1343.0, 833.0]],\n",
      "  ('VENUE : SRI MANJUNATHA SWAMY', 0.9935340881347656)],\n",
      " [[[1535.0, 848.0], [2022.0, 848.0], [2022.0, 896.0], [1535.0, 896.0]],\n",
      "  ('KALYANAMANTAPA', 0.997681736946106)],\n",
      " [[[111.0, 885.0], [1144.0, 885.0], [1144.0, 936.0], [111.0, 936.0]],\n",
      "  ('LAST DATE FOR ENTRY 15th AUGUST 2023', 0.9827476143836975)],\n",
      " [[[1317.0, 899.0], [2240.0, 899.0], [2240.0, 947.0], [1317.0, 947.0]],\n",
      "  ('WHITEFIELD - HOSAKOTE MAIN ROAD', 0.9870825409889221)],\n",
      " [[[1395.0, 961.0], [2166.0, 961.0], [2166.0, 998.0], [1395.0, 998.0]],\n",
      "  ('HOSAKOTE BANGALORE-560049', 0.9789519309997559)],\n",
      " [[[262.0, 983.0], [1004.0, 983.0], [1004.0, 1031.0], [262.0, 1031.0]],\n",
      "  ('ROUND STARTS AT 09.30AM', 0.9602850079536438)],\n",
      " [[[590.0, 1089.0], [1923.0, 1089.0], [1923.0, 1140.0], [590.0, 1140.0]],\n",
      "  ('CATEGORIES FOR INDIVIDUAL BOYS AND GIRLS SEPARATE', 0.9778599739074707)],\n",
      " [[[498.0, 1155.0], [2011.0, 1155.0], [2011.0, 1203.0], [498.0, 1203.0]],\n",
      "  ('THE TOURNAMENT WILL BE CONDUCTED SEPARATELY FOR BOYS AND GIRLS',\n",
      "   0.9587637186050415)],\n",
      " [[[140.0, 1210.0], [1089.0, 1210.0], [1089.0, 1257.0], [140.0, 1257.0]],\n",
      "  ('1. CATEGORY : II STD / CLASS / GRADE AND BELOW', 0.9668996334075928)],\n",
      " [[[144.0, 1268.0], [974.0, 1268.0], [974.0, 1305.0], [144.0, 1305.0]],\n",
      "  ('2.CATEGORY :III AND IV STD/CLASS/GRADE', 0.9146531820297241)],\n",
      " [[[1428.0, 1261.0], [2273.0, 1261.0], [2273.0, 1309.0], [1428.0, 1309.0]],\n",
      "  ('BOYS TOP 5 TROPHIES & 6TH - 10TH', 0.9872247576713562)],\n",
      " [[[1236.0, 1298.0], [1369.0, 1298.0], [1369.0, 1389.0], [1236.0, 1389.0]],\n",
      "  ('10', 0.9979990720748901)],\n",
      " [[[140.0, 1312.0], [952.0, 1312.0], [952.0, 1360.0], [140.0, 1360.0]],\n",
      "  ('3.CATEGORY :V and VI STD /CLASS/GRADE', 0.9510920643806458)],\n",
      " [[[1425.0, 1320.0], [1853.0, 1320.0], [1853.0, 1367.0], [1425.0, 1367.0]],\n",
      "  ('PRIZES - MEDALS.', 0.9771264791488647)],\n",
      " [[[144.0, 1374.0], [945.0, 1374.0], [945.0, 1411.0], [144.0, 1411.0]],\n",
      "  ('4.CATEGORY:VII,VIII, STD/CLASS/GRADE', 0.9468254446983337)],\n",
      " [[[140.0, 1422.0], [1078.0, 1422.0], [1078.0, 1469.0], [140.0, 1469.0]],\n",
      "  ('5. CATEGORY : IX, X, XI AND XII STD/CLASS/GRADE.', 0.9968533515930176)],\n",
      " [[[1196.0, 1426.0], [2288.0, 1422.0], [2288.0, 1473.0], [1196.0, 1477.0]],\n",
      "  ('PRIZES GIRLS TOP 5 TROPHIES & 6TH - 10TH', 0.9920345544815063)],\n",
      " [[[1425.0, 1480.0], [1856.0, 1480.0], [1856.0, 1528.0], [1425.0, 1528.0]],\n",
      "  ('PRIZES - MEDALS.', 0.9954770803451538)],\n",
      " [[[144.0, 1528.0], [1096.0, 1528.0], [1096.0, 1575.0], [144.0, 1575.0]],\n",
      "  ('PLEASE NOTE: LOWER STD/GRADE/CLASS STUDENTS', 0.9876925349235535)],\n",
      " [[[140.0, 1583.0], [1421.0, 1583.0], [1421.0, 1630.0], [140.0, 1630.0]],\n",
      "  ('ARE NOT ALLOWED TO PLAY IN HIGHER STD/GRADE/CLASS CATEGORY',\n",
      "   0.9746105074882507)],\n",
      " [[[867.0, 1663.0], [1668.0, 1663.0], [1668.0, 1711.0], [867.0, 1711.0]],\n",
      "  ('TOTALNOOFPRIZES-113', 0.9919976592063904)],\n",
      " [[[148.0, 1762.0], [476.0, 1762.0], [476.0, 1809.0], [148.0, 1809.0]],\n",
      "  ('SCHOOL PRIZES:', 0.9823822379112244)],\n",
      " [[[150.0, 1822.0], [184.0, 1830.0], [176.0, 1859.0], [143.0, 1851.0]],\n",
      "  ('1.', 0.988709568977356)],\n",
      " [[[192.0, 1824.0], [1827.0, 1824.0], [1827.0, 1861.0], [192.0, 1861.0]],\n",
      "  ('TOP 3 SCHOOL PRIZES IN BOTH BOYS & GIRLS SECTION SEPARATELY GIVENFOR '\n",
      "   'SCHOOLS',\n",
      "   0.9319391846656799)],\n",
      " [[[199.0, 1868.0], [1443.0, 1868.0], [1443.0, 1915.0], [199.0, 1915.0]],\n",
      "  ('(WINNER, RUNNER, RUNNER UP - BEAUTIFUL GLITTERING TROPHIES)E',\n",
      "   0.9764075875282288)],\n",
      " [[[196.0, 1923.0], [2118.0, 1919.0], [2118.0, 1970.0], [196.0, 1974.0]],\n",
      "  ('(WHICH WON HIGHEST NO OF PRIZES IN THE 5 CATEGORIES OF BOYS AND GIRLS '\n",
      "   'CATEGORY SEPARATELY)',\n",
      "   0.9925234317779541)],\n",
      " [[[214.0, 1985.0], [1797.0, 1985.0], [1797.0, 2021.0], [214.0, 2021.0]],\n",
      "  ('BEST SCHOOL PRIZE : 4TH TO 1OTH PRIZE(GREATER NOOF ENTRY FROM THE SCHOOL)',\n",
      "   0.9279334545135498)],\n",
      " [[[816.0, 2098.0], [1661.0, 2106.0], [1660.0, 2153.0], [815.0, 2145.0]],\n",
      "  ('ENTRY FEE:- RS. 700/per Student', 0.9912741780281067)],\n",
      " [[[469.0, 2164.0], [2004.0, 2164.0], [2004.0, 2211.0], [469.0, 2211.0]],\n",
      "  ('ENTRY FEE CAN BE PAID @ WWW.EASYPAYCHESS.COM', 0.9740747809410095)],\n",
      " [[[107.0, 2281.0], [2395.0, 2281.0], [2395.0, 2328.0], [107.0, 2328.0]],\n",
      "  (\"A. Player's can enroll directly OR From the School . B. No entry \"\n",
      "   'restrictions, School can enroll any number of players.',\n",
      "   0.9863544702529907)],\n",
      " [[[476.0, 2339.0], [2030.0, 2339.0], [2030.0, 2387.0], [476.0, 2387.0]],\n",
      "  ('C. Organizer will provide attendance confirmation letter after the '\n",
      "   'tournament..',\n",
      "   0.9783892035484314)],\n",
      " [[[528.0, 2478.0], [1982.0, 2478.0], [1982.0, 2526.0], [528.0, 2526.0]],\n",
      "  ('CHIEF ARBITER : K.MURUGASUNDARAM (FA) MO: 9980852725', 0.9637439250946045)],\n",
      " [[[129.0, 3312.0], [2362.0, 3312.0], [2362.0, 3359.0], [129.0, 3359.0]],\n",
      "  ('WHATSAPP DETAILS: CHIDANANDA A SECRETARY MO.9663405589. '\n",
      "   'BRDCA.CHESS@GMAIL.COM',\n",
      "   0.9847952127456665)]]\n"
     ]
    }
   ],
   "source": [
    "from pprint import pprint\n",
    "pprint(output)"
   ]
  },
  {
   "cell_type": "markdown",
   "id": "9cb27883-041c-427b-83e6-5f31838a75b0",
   "metadata": {},
   "source": [
    "## OCR FINISHED"
   ]
  },
  {
   "cell_type": "markdown",
   "id": "256e39e9-20ea-4188-9949-b27adabf57df",
   "metadata": {},
   "source": [
    "## Ignore after this"
   ]
  },
  {
   "cell_type": "code",
   "execution_count": 104,
   "id": "1269e5d4-a6a2-43d8-b71e-2ee3424fd129",
   "metadata": {},
   "outputs": [],
   "source": [
    "boxes = [line[0] for line in output]\n",
    "texts = [line[1][0] for line in output]\n",
    "probabilities = [line[1][1] for line in output]"
   ]
  },
  {
   "cell_type": "code",
   "execution_count": 105,
   "id": "b6e6586a-3ea8-41ff-b4d1-828d22bb691b",
   "metadata": {},
   "outputs": [],
   "source": [
    "image_boxes = image_cv.copy()"
   ]
  },
  {
   "cell_type": "code",
   "execution_count": 106,
   "id": "05760d7d-0066-43f7-bd7a-e4870c2ddb1d",
   "metadata": {},
   "outputs": [],
   "source": [
    "for box,text in zip(boxes,texts):\n",
    "  cv2.rectangle(image_boxes, (int(box[0][0]),int(box[0][1])), (int(box[2][0]),int(box[2][1])),(0,0,255),1)\n",
    "  cv2.putText(image_boxes, text,(int(box[0][0]),int(box[0][1])),cv2.FONT_HERSHEY_SIMPLEX,1,(222,0,0),1)"
   ]
  },
  {
   "cell_type": "code",
   "execution_count": 107,
   "id": "7eab53e9-75cd-4f87-b190-4cda69848f36",
   "metadata": {},
   "outputs": [
    {
     "data": {
      "text/plain": [
       "True"
      ]
     },
     "execution_count": 107,
     "metadata": {},
     "output_type": "execute_result"
    }
   ],
   "source": [
    "cv2.imwrite('detections.jpg', image_boxes)"
   ]
  },
  {
   "cell_type": "code",
   "execution_count": 108,
   "id": "fd8da732-e020-43d4-b7f1-fbe47cec08c1",
   "metadata": {},
   "outputs": [],
   "source": [
    "im = image_cv.copy()"
   ]
  },
  {
   "cell_type": "code",
   "execution_count": 109,
   "id": "da5a698c-4de6-49c0-ba95-ef62863a4d8d",
   "metadata": {},
   "outputs": [],
   "source": [
    "horiz_boxes = []\n",
    "vert_boxes = []\n",
    "\n",
    "for box in boxes:\n",
    "  x_h, x_v = 0,int(box[0][0])\n",
    "  y_h, y_v = int(box[0][1]),0\n",
    "  width_h,width_v = image_width, int(box[2][0]-box[0][0])\n",
    "  height_h,height_v = int(box[2][1]-box[0][1]),image_height\n",
    "\n",
    "  horiz_boxes.append([x_h,y_h,x_h+width_h,y_h+height_h])\n",
    "  vert_boxes.append([x_v,y_v,x_v+width_v,y_v+height_v])\n",
    "\n",
    "  cv2.rectangle(im,(x_h,y_h), (x_h+width_h,y_h+height_h),(0,0,255),1)\n",
    "  cv2.rectangle(im,(x_v,y_v), (x_v+width_v,y_v+height_v),(0,255,0),1)\n",
    "  "
   ]
  },
  {
   "cell_type": "code",
   "execution_count": 110,
   "id": "de38375e-35be-4404-abc2-1fa020555a9c",
   "metadata": {},
   "outputs": [
    {
     "data": {
      "text/plain": [
       "True"
      ]
     },
     "execution_count": 110,
     "metadata": {},
     "output_type": "execute_result"
    }
   ],
   "source": [
    "cv2.imwrite('horiz_vert.jpg',im)"
   ]
  },
  {
   "cell_type": "code",
   "execution_count": 111,
   "id": "28c2a3d9-cc74-4057-8f2a-41e5e892fbb7",
   "metadata": {},
   "outputs": [],
   "source": [
    "# !pip install tensorflow"
   ]
  },
  {
   "cell_type": "code",
   "execution_count": 112,
   "id": "a1ead62d-ccb7-4dba-bd04-8068a2e89730",
   "metadata": {},
   "outputs": [],
   "source": [
    "import tensorflow as tf\n",
    "import numpy as np"
   ]
  },
  {
   "cell_type": "code",
   "execution_count": 113,
   "id": "46225b08-6f36-4085-bee3-12b5e1d99716",
   "metadata": {},
   "outputs": [],
   "source": [
    "horiz_out = tf.image.non_max_suppression(\n",
    "    horiz_boxes,\n",
    "    probabilities,\n",
    "    max_output_size = 1000,\n",
    "    iou_threshold=0.1,\n",
    "    score_threshold=float('-inf'),\n",
    "    name=None\n",
    ")"
   ]
  },
  {
   "cell_type": "code",
   "execution_count": 114,
   "id": "4679b8b7-f95d-4932-bd4f-bd70b31bbae9",
   "metadata": {},
   "outputs": [
    {
     "name": "stdout",
     "output_type": "stream",
     "text": [
      "[ 0  1  3  6  8  9 10 12 14 15 17 18 19 21 22 26 28 29 30 31 32 33 35 36\n",
      " 37 38 39 40 41 42 43]\n"
     ]
    }
   ],
   "source": [
    "horiz_lines = np.sort(np.array(horiz_out))\n",
    "print(horiz_lines)"
   ]
  },
  {
   "cell_type": "code",
   "execution_count": 115,
   "id": "120c9d92-b297-47e3-9ebb-201fd7fb2de6",
   "metadata": {},
   "outputs": [],
   "source": [
    "im_nms = image_cv.copy()"
   ]
  },
  {
   "cell_type": "code",
   "execution_count": 116,
   "id": "575eabce-bb3c-45ef-951b-2271610eb78a",
   "metadata": {},
   "outputs": [],
   "source": [
    "for val in horiz_lines:\n",
    "  cv2.rectangle(im_nms, (int(horiz_boxes[val][0]),int(horiz_boxes[val][1])), (int(horiz_boxes[val][2]),int(horiz_boxes[val][3])),(0,0,255),1)"
   ]
  },
  {
   "cell_type": "code",
   "execution_count": 117,
   "id": "ed907b8b-e1d2-4ed4-83ae-5c33c4f0665a",
   "metadata": {},
   "outputs": [
    {
     "data": {
      "text/plain": [
       "True"
      ]
     },
     "execution_count": 117,
     "metadata": {},
     "output_type": "execute_result"
    }
   ],
   "source": [
    "cv2.imwrite('im_nms.jpg',im_nms)"
   ]
  },
  {
   "cell_type": "code",
   "execution_count": 118,
   "id": "d89db591-f17b-47fd-9a49-6db66bd8672c",
   "metadata": {},
   "outputs": [],
   "source": [
    "vert_out = tf.image.non_max_suppression(\n",
    "    vert_boxes,\n",
    "    probabilities,\n",
    "    max_output_size = 1000,\n",
    "    iou_threshold=0.1,\n",
    "    score_threshold=float('-inf'),\n",
    "    name=None\n",
    ")"
   ]
  },
  {
   "cell_type": "code",
   "execution_count": 119,
   "id": "9d0284d2-851a-4763-a890-8b559c9caa65",
   "metadata": {},
   "outputs": [
    {
     "name": "stdout",
     "output_type": "stream",
     "text": [
      "tf.Tensor([ 1 22 26 33], shape=(4,), dtype=int32)\n"
     ]
    }
   ],
   "source": [
    "print(vert_out)"
   ]
  },
  {
   "cell_type": "code",
   "execution_count": 120,
   "id": "55e5ebaf-5e37-498c-8f64-b8b2844471fb",
   "metadata": {},
   "outputs": [
    {
     "name": "stdout",
     "output_type": "stream",
     "text": [
      "[ 1 22 26 33]\n"
     ]
    }
   ],
   "source": [
    "vert_lines = np.sort(np.array(vert_out))\n",
    "print(vert_lines)"
   ]
  },
  {
   "cell_type": "code",
   "execution_count": 121,
   "id": "7f6f607c-2a4d-411d-822a-ad81e5844f8d",
   "metadata": {},
   "outputs": [],
   "source": [
    "for val in vert_lines:\n",
    "  cv2.rectangle(im_nms, (int(vert_boxes[val][0]),int(vert_boxes[val][1])), (int(vert_boxes[val][2]),int(vert_boxes[val][3])),(255,0,0),1)\n",
    "  "
   ]
  },
  {
   "cell_type": "code",
   "execution_count": 122,
   "id": "996d5b07-d7ca-42db-885e-147cc3329c11",
   "metadata": {},
   "outputs": [
    {
     "data": {
      "text/plain": [
       "True"
      ]
     },
     "execution_count": 122,
     "metadata": {},
     "output_type": "execute_result"
    }
   ],
   "source": [
    "cv2.imwrite('im_nms.jpg',im_nms)"
   ]
  },
  {
   "cell_type": "code",
   "execution_count": 123,
   "id": "2dfff883-6b54-457f-aa95-50d78ba84f08",
   "metadata": {},
   "outputs": [
    {
     "name": "stdout",
     "output_type": "stream",
     "text": [
      "(31, 4)\n",
      "[['', '', '', ''], ['', '', '', ''], ['', '', '', ''], ['', '', '', ''], ['', '', '', ''], ['', '', '', ''], ['', '', '', ''], ['', '', '', ''], ['', '', '', ''], ['', '', '', ''], ['', '', '', ''], ['', '', '', ''], ['', '', '', ''], ['', '', '', ''], ['', '', '', ''], ['', '', '', ''], ['', '', '', ''], ['', '', '', ''], ['', '', '', ''], ['', '', '', ''], ['', '', '', ''], ['', '', '', ''], ['', '', '', ''], ['', '', '', ''], ['', '', '', ''], ['', '', '', ''], ['', '', '', ''], ['', '', '', ''], ['', '', '', ''], ['', '', '', ''], ['', '', '', '']]\n"
     ]
    }
   ],
   "source": [
    "\n",
    "\n",
    "out_array = [[\"\" for i in range(len(vert_lines))] for j in range(len(horiz_lines))]\n",
    "print(np.array(out_array).shape)\n",
    "print(out_array)"
   ]
  },
  {
   "cell_type": "code",
   "execution_count": 124,
   "id": "c177e968-bdd7-4ec6-93c5-af21319d9339",
   "metadata": {},
   "outputs": [
    {
     "name": "stdout",
     "output_type": "stream",
     "text": [
      "[1517, 0, 1941, 3509]\n",
      "[1236, 0, 1369, 3509]\n",
      "[140, 0, 1078, 3509]\n",
      "[150, 0, 176, 3509]\n"
     ]
    }
   ],
   "source": [
    "\n",
    "unordered_boxes = []\n",
    "\n",
    "for i in vert_lines:\n",
    "  print(vert_boxes[i])\n",
    "  unordered_boxes.append(vert_boxes[i][0])"
   ]
  },
  {
   "cell_type": "code",
   "execution_count": 125,
   "id": "b64d28e8-d3ff-46b8-ab1a-1be099e4db44",
   "metadata": {},
   "outputs": [
    {
     "name": "stdout",
     "output_type": "stream",
     "text": [
      "[2 3 1 0]\n"
     ]
    }
   ],
   "source": [
    "ordered_boxes = np.argsort(unordered_boxes)\n",
    "print(ordered_boxes)"
   ]
  },
  {
   "cell_type": "code",
   "execution_count": 126,
   "id": "c167d2fd-b1bf-4412-970c-dafa4ff384b2",
   "metadata": {},
   "outputs": [],
   "source": [
    "def intersection(box_1, box_2):\n",
    "  return [box_2[0], box_1[1],box_2[2], box_1[3]]"
   ]
  },
  {
   "cell_type": "code",
   "execution_count": 127,
   "id": "8a623d0a-3180-4a8e-b3d3-bcd49f3ad629",
   "metadata": {},
   "outputs": [],
   "source": [
    "def iou(box_1, box_2):\n",
    "\n",
    "  x_1 = max(box_1[0], box_2[0])\n",
    "  y_1 = max(box_1[1], box_2[1])\n",
    "  x_2 = min(box_1[2], box_2[2])\n",
    "  y_2 = min(box_1[3], box_2[3])\n",
    "\n",
    "  inter = abs(max((x_2 - x_1, 0)) * max((y_2 - y_1), 0))\n",
    "  if inter == 0:\n",
    "      return 0\n",
    "      \n",
    "  box_1_area = abs((box_1[2] - box_1[0]) * (box_1[3] - box_1[1]))\n",
    "  box_2_area = abs((box_2[2] - box_2[0]) * (box_2[3] - box_2[1]))\n",
    "  \n",
    "  return inter / float(box_1_area + box_2_area - inter)"
   ]
  },
  {
   "cell_type": "code",
   "execution_count": 128,
   "id": "c8adcb00-9b80-4237-84b5-d1eb85bd788b",
   "metadata": {},
   "outputs": [],
   "source": [
    "for i in range(len(horiz_lines)):\n",
    "  for j in range(len(vert_lines)):\n",
    "    resultant = intersection(horiz_boxes[horiz_lines[i]], vert_boxes[vert_lines[ordered_boxes[j]]] )\n",
    "\n",
    "    for b in range(len(boxes)):\n",
    "      the_box = [boxes[b][0][0],boxes[b][0][1],boxes[b][2][0],boxes[b][2][1]]\n",
    "      if(iou(resultant,the_box)>0.1):\n",
    "        out_array[i][j] = texts[b]"
   ]
  },
  {
   "cell_type": "code",
   "execution_count": 129,
   "id": "4128e56d-aba1-49fd-9465-3f0be3160eba",
   "metadata": {},
   "outputs": [],
   "source": [
    "out_array=np.array(out_array)"
   ]
  },
  {
   "cell_type": "code",
   "execution_count": 130,
   "id": "3fab5ba5-a138-406b-a8d4-a3b391122aa1",
   "metadata": {},
   "outputs": [
    {
     "data": {
      "text/plain": [
       "array([['', '', '', 'KSCA EVENT CODE :'],\n",
       "       ['1 st BRDCA STATE', '', '', 'KSCA/G023/2324'],\n",
       "       ['LEVELINTER', '', '', '(UNDER THE AUSPICES OF KSCA)'],\n",
       "       ['SCHOOL CHESS', '', '', 'ORGANISED BY :'],\n",
       "       ['TOURNAMENT 2023', '', '', 'BANGALORE RURAL'],\n",
       "       ['', '', '', 'DISTRICT CHESS ASSOCIATION(R)'],\n",
       "       ['FRIDAY 18th AUGUST 2023', '', '',\n",
       "        'VENUE : SRI MANJUNATHA SWAMY'],\n",
       "       ['LAST DATE FOR ENTRY 15th AUGUST 2023', '', '', 'KALYANAMANTAPA'],\n",
       "       ['LAST DATE FOR ENTRY 15th AUGUST 2023', '', '',\n",
       "        'WHITEFIELD - HOSAKOTE MAIN ROAD'],\n",
       "       ['ROUND STARTS AT 09.30AM', '', '', 'HOSAKOTE BANGALORE-560049'],\n",
       "       ['CATEGORIES FOR INDIVIDUAL BOYS AND GIRLS SEPARATE', '', '',\n",
       "        'CATEGORIES FOR INDIVIDUAL BOYS AND GIRLS SEPARATE'],\n",
       "       ['THE TOURNAMENT WILL BE CONDUCTED SEPARATELY FOR BOYS AND GIRLS',\n",
       "        '', '',\n",
       "        'THE TOURNAMENT WILL BE CONDUCTED SEPARATELY FOR BOYS AND GIRLS'],\n",
       "       ['1. CATEGORY : II STD / CLASS / GRADE AND BELOW', '', '', ''],\n",
       "       ['2.CATEGORY :III AND IV STD/CLASS/GRADE', '', '',\n",
       "        'BOYS TOP 5 TROPHIES & 6TH - 10TH'],\n",
       "       ['4.CATEGORY:VII,VIII, STD/CLASS/GRADE', '', '10',\n",
       "        'PRIZES - MEDALS.'],\n",
       "       ['5. CATEGORY : IX, X, XI AND XII STD/CLASS/GRADE.', '',\n",
       "        'PRIZES GIRLS TOP 5 TROPHIES & 6TH - 10TH',\n",
       "        'PRIZES GIRLS TOP 5 TROPHIES & 6TH - 10TH'],\n",
       "       ['', '', '', 'PRIZES - MEDALS.'],\n",
       "       ['PLEASE NOTE: LOWER STD/GRADE/CLASS STUDENTS', '', '', ''],\n",
       "       ['ARE NOT ALLOWED TO PLAY IN HIGHER STD/GRADE/CLASS CATEGORY', '',\n",
       "        'ARE NOT ALLOWED TO PLAY IN HIGHER STD/GRADE/CLASS CATEGORY', ''],\n",
       "       ['TOTALNOOFPRIZES-113', '', 'TOTALNOOFPRIZES-113',\n",
       "        'TOTALNOOFPRIZES-113'],\n",
       "       ['SCHOOL PRIZES:', '', '', ''],\n",
       "       ['TOP 3 SCHOOL PRIZES IN BOTH BOYS & GIRLS SECTION SEPARATELY GIVENFOR SCHOOLS',\n",
       "        '1.', '',\n",
       "        'TOP 3 SCHOOL PRIZES IN BOTH BOYS & GIRLS SECTION SEPARATELY GIVENFOR SCHOOLS'],\n",
       "       ['(WINNER, RUNNER, RUNNER UP - BEAUTIFUL GLITTERING TROPHIES)E',\n",
       "        '',\n",
       "        '(WINNER, RUNNER, RUNNER UP - BEAUTIFUL GLITTERING TROPHIES)E',\n",
       "        ''],\n",
       "       ['(WHICH WON HIGHEST NO OF PRIZES IN THE 5 CATEGORIES OF BOYS AND GIRLS CATEGORY SEPARATELY)',\n",
       "        '', '',\n",
       "        '(WHICH WON HIGHEST NO OF PRIZES IN THE 5 CATEGORIES OF BOYS AND GIRLS CATEGORY SEPARATELY)'],\n",
       "       ['BEST SCHOOL PRIZE : 4TH TO 1OTH PRIZE(GREATER NOOF ENTRY FROM THE SCHOOL)',\n",
       "        '', '',\n",
       "        'BEST SCHOOL PRIZE : 4TH TO 1OTH PRIZE(GREATER NOOF ENTRY FROM THE SCHOOL)'],\n",
       "       ['ENTRY FEE:- RS. 700/per Student', '',\n",
       "        'ENTRY FEE:- RS. 700/per Student',\n",
       "        'ENTRY FEE:- RS. 700/per Student'],\n",
       "       ['ENTRY FEE CAN BE PAID @ WWW.EASYPAYCHESS.COM', '', '',\n",
       "        'ENTRY FEE CAN BE PAID @ WWW.EASYPAYCHESS.COM'],\n",
       "       [\"A. Player's can enroll directly OR From the School . B. No entry restrictions, School can enroll any number of players.\",\n",
       "        '', '',\n",
       "        \"A. Player's can enroll directly OR From the School . B. No entry restrictions, School can enroll any number of players.\"],\n",
       "       ['C. Organizer will provide attendance confirmation letter after the tournament..',\n",
       "        '', '',\n",
       "        'C. Organizer will provide attendance confirmation letter after the tournament..'],\n",
       "       ['CHIEF ARBITER : K.MURUGASUNDARAM (FA) MO: 9980852725', '', '',\n",
       "        'CHIEF ARBITER : K.MURUGASUNDARAM (FA) MO: 9980852725'],\n",
       "       ['WHATSAPP DETAILS: CHIDANANDA A SECRETARY MO.9663405589. BRDCA.CHESS@GMAIL.COM',\n",
       "        '', '',\n",
       "        'WHATSAPP DETAILS: CHIDANANDA A SECRETARY MO.9663405589. BRDCA.CHESS@GMAIL.COM']],\n",
       "      dtype='<U119')"
      ]
     },
     "execution_count": 130,
     "metadata": {},
     "output_type": "execute_result"
    }
   ],
   "source": [
    "out_array"
   ]
  },
  {
   "cell_type": "code",
   "execution_count": 131,
   "id": "16ca3937-42ee-4e01-bcbb-6210255dfd2c",
   "metadata": {},
   "outputs": [],
   "source": []
  },
  {
   "cell_type": "code",
   "execution_count": null,
   "id": "48f5da5f-be3c-4c99-8eb3-5068890e5f2b",
   "metadata": {},
   "outputs": [],
   "source": []
  },
  {
   "cell_type": "code",
   "execution_count": null,
   "id": "c8478183-00b6-4d30-ae77-cc16f6067a40",
   "metadata": {},
   "outputs": [],
   "source": []
  }
 ],
 "metadata": {
  "kernelspec": {
   "display_name": "Python 3 (ipykernel)",
   "language": "python",
   "name": "python3"
  },
  "language_info": {
   "codemirror_mode": {
    "name": "ipython",
    "version": 3
   },
   "file_extension": ".py",
   "mimetype": "text/x-python",
   "name": "python",
   "nbconvert_exporter": "python",
   "pygments_lexer": "ipython3",
   "version": "3.8.17"
  }
 },
 "nbformat": 4,
 "nbformat_minor": 5
}
