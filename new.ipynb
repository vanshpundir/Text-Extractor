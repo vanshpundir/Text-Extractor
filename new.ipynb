{
 "cells": [
  {
   "cell_type": "code",
   "execution_count": 1,
   "id": "97d83ce5-25ea-411a-9728-c20f2b2744fd",
   "metadata": {},
   "outputs": [],
   "source": [
    "    # !pip install paddleclas"
   ]
  },
  {
   "cell_type": "code",
   "execution_count": 1,
   "id": "144cb57c",
   "metadata": {
    "scrolled": true
   },
   "outputs": [
    {
     "name": "stdout",
     "output_type": "stream",
     "text": [
      "[2023/10/13 14:38:26] ppocr DEBUG: Namespace(alpha=1.0, alphacolor=(255, 255, 255), benchmark=False, beta=1.0, binarize=False, cls_batch_num=6, cls_image_shape='3, 48, 192', cls_model_dir=None, cls_thresh=0.9, cpu_threads=10, crop_res_save_dir='./output', det=True, det_algorithm='DB', det_box_type='quad', det_db_box_thresh=0.6, det_db_score_mode='fast', det_db_thresh=0.3, det_db_unclip_ratio=1.5, det_east_cover_thresh=0.1, det_east_nms_thresh=0.2, det_east_score_thresh=0.8, det_limit_side_len=960, det_limit_type='max', det_model_dir='/home/shivam/.paddleocr/whl/det/ch/ch_PP-OCRv4_det_infer', det_pse_box_thresh=0.85, det_pse_min_area=16, det_pse_scale=1, det_pse_thresh=0, det_sast_nms_thresh=0.2, det_sast_score_thresh=0.5, draw_img_save_dir='./inference_results', drop_score=0.5, e2e_algorithm='PGNet', e2e_char_dict_path='./ppocr/utils/ic15_dict.txt', e2e_limit_side_len=768, e2e_limit_type='max', e2e_model_dir=None, e2e_pgnet_mode='fast', e2e_pgnet_score_thresh=0.5, e2e_pgnet_valid_set='totaltext', enable_mkldnn=False, fourier_degree=5, gpu_id=0, gpu_mem=500, help='==SUPPRESS==', image_dir=None, image_orientation=True, invert=False, ir_optim=True, kie_algorithm='LayoutXLM', label_list=['0', '180'], lang='ch', layout=True, layout_dict_path='/home/shivam/.local/lib/python3.8/site-packages/paddleocr/ppocr/utils/dict/layout_dict/layout_cdla_dict.txt', layout_model_dir='/home/shivam/.paddleocr/whl/layout/picodet_lcnet_x1_0_fgd_layout_cdla_infer', layout_nms_threshold=0.5, layout_score_threshold=0.5, max_batch_size=10, max_text_length=25, merge_no_span_structure=True, min_subgraph_size=15, mode='structure', ocr=True, ocr_order_method=None, ocr_version='PP-OCRv4', output='./output', page_num=0, precision='fp32', process_id=0, re_model_dir=None, rec=True, rec_algorithm='SVTR_LCNet', rec_batch_num=6, rec_char_dict_path='/home/shivam/.local/lib/python3.8/site-packages/paddleocr/ppocr/utils/ppocr_keys_v1.txt', rec_image_inverse=True, rec_image_shape='3, 48, 320', rec_model_dir='/home/shivam/.paddleocr/whl/rec/ch/ch_PP-OCRv4_rec_infer', recovery=False, save_crop_res=False, save_log_path='./log_output/', scales=[8, 16, 32], ser_dict_path='../train_data/XFUND/class_list_xfun.txt', ser_model_dir=None, show_log=True, sr_batch_num=1, sr_image_shape='3, 32, 128', sr_model_dir=None, structure_version='PP-StructureV2', table=True, table_algorithm='TableAttn', table_char_dict_path='/home/shivam/.local/lib/python3.8/site-packages/paddleocr/ppocr/utils/dict/table_structure_dict_ch.txt', table_max_len=488, table_model_dir='/home/shivam/.paddleocr/whl/table/ch_ppstructure_mobile_v2.0_SLANet_infer', total_process_num=1, type='ocr', use_angle_cls=False, use_dilation=False, use_gpu=False, use_mp=False, use_npu=False, use_onnx=False, use_pdf2docx_api=False, use_pdserving=False, use_space_char=True, use_tensorrt=False, use_visual_backbone=True, use_xpu=False, vis_font_path='./doc/fonts/simfang.ttf', warmup=False)\n"
     ]
    },
    {
     "name": "stderr",
     "output_type": "stream",
     "text": [
      "2023-10-13 14:38:26 INFO: Loading faiss with AVX2 support.\n",
      "2023-10-13 14:38:26 INFO: Could not load library with AVX2 support due to:\n",
      "ModuleNotFoundError(\"No module named 'faiss.swigfaiss_avx2'\")\n",
      "2023-10-13 14:38:26 INFO: Loading faiss.\n",
      "2023-10-13 14:38:26 INFO: Successfully loaded faiss.\n"
     ]
    },
    {
     "name": "stdout",
     "output_type": "stream",
     "text": [
      "[2023/10/13 14:38:26] ppcls WARNING: The current running environment does not support the use of GPU. CPU has been used instead.\n",
      "[2023/10/13 14:38:28] ppocr DEBUG: dt_boxes num : 45, elapsed : 0.3112039566040039\n",
      "[2023/10/13 14:38:34] ppocr DEBUG: rec_res num  : 45, elapsed : 6.189753293991089\n",
      "[2023/10/13 14:38:36] ppocr DEBUG: dt_boxes num : 45, elapse : 0.3242208957672119\n",
      "[2023/10/13 14:38:42] ppocr DEBUG: rec_res num  : 45, elapse : 5.669423580169678\n",
      "{'type': 'figure', 'bbox': [1, 37, 2904, 857], 'res': [{'text': 'Sr. No.', 'confidence': 0.9407315254211426, 'text_region': [[117.0, 72.0], [295.0, 79.0], [293.0, 137.0], [115.0, 129.0]]}, {'text': 'Grade', 'confidence': 0.9905804395675659, 'text_region': [[2559.0, 66.0], [2732.0, 66.0], [2732.0, 123.0], [2559.0, 123.0]]}, {'text': 'Roll No.', 'confidence': 0.9969607591629028, 'text_region': [[392.0, 78.0], [603.0, 86.0], [601.0, 150.0], [390.0, 142.0]]}, {'text': 'Name', 'confidence': 0.9891712069511414, 'text_region': [[983.0, 91.0], [1139.0, 99.0], [1136.0, 160.0], [980.0, 151.0]]}, {'text': 'Email Id', 'confidence': 0.9054730534553528, 'text_region': [[1833.0, 82.0], [2062.0, 75.0], [2064.0, 133.0], [1835.0, 140.0]]}, {'text': '41', 'confidence': 0.6754592657089233, 'text_region': [[2572.0, 140.0], [2688.0, 154.0], [2680.0, 232.0], [2563.0, 217.0]]}, {'text': '2110993771', 'confidence': 0.9963628053665161, 'text_region': [[350.0, 168.0], [625.0, 179.0], [623.0, 236.0], [348.0, 225.0]]}, {'text': '1', 'confidence': 0.9937686920166016, 'text_region': [[179.0, 178.0], [216.0, 178.0], [216.0, 223.0], [179.0, 223.0]]}, {'text': 'Baashi Nazir', 'confidence': 0.9847583770751953, 'text_region': [[667.0, 178.0], [957.0, 185.0], [956.0, 242.0], [666.0, 235.0]]}, {'text': 'baashi3771.be21@chitkara.edu.in', 'confidence': 0.9967362880706787, 'text_region': [[1446.0, 178.0], [2199.0, 165.0], [2200.0, 229.0], [1447.0, 242.0]]}, {'text': '3', 'confidence': 0.8344473838806152, 'text_region': [[2590.0, 226.0], [2720.0, 226.0], [2720.0, 300.0], [2590.0, 300.0]]}, {'text': '2', 'confidence': 0.9984017014503479, 'text_region': [[167.0, 252.0], [210.0, 252.0], [210.0, 306.0], [167.0, 306.0]]}, {'text': '2110993795', 'confidence': 0.9986242055892944, 'text_region': [[341.0, 248.0], [621.0, 255.0], [620.0, 313.0], [339.0, 306.0]]}, {'text': 'Hitakshi', 'confidence': 0.9929057359695435, 'text_region': [[666.0, 258.0], [857.0, 258.0], [857.0, 316.0], [666.0, 316.0]]}, {'text': 'hitakshi3795.be21@chitkara.edu.in', 'confidence': 0.9876337647438049, 'text_region': [[1443.0, 258.0], [2232.0, 245.0], [2233.0, 303.0], [1444.0, 316.0]]}, {'text': '64', 'confidence': 0.9340137243270874, 'text_region': [[2565.0, 306.0], [2723.0, 306.0], [2723.0, 393.0], [2565.0, 393.0]]}, {'text': '3', 'confidence': 0.9968898892402649, 'text_region': [[158.0, 328.0], [201.0, 328.0], [201.0, 383.0], [158.0, 383.0]]}, {'text': '2110993811', 'confidence': 0.994162917137146, 'text_region': [[335.0, 322.0], [612.0, 329.0], [611.0, 393.0], [333.0, 386.0]]}, {'text': 'Mehakpreet', 'confidence': 0.9783431887626648, 'text_region': [[655.0, 334.0], [927.0, 342.0], [925.0, 399.0], [654.0, 392.0]]}, {'text': 'mehakpreet3811.be21@chitkara.edu.in', 'confidence': 0.978182852268219, 'text_region': [[1437.0, 335.0], [2323.0, 322.0], [2324.0, 386.0], [1438.0, 399.0]]}, {'text': '29', 'confidence': 0.9961168766021729, 'text_region': [[2559.0, 392.0], [2721.0, 400.0], [2717.0, 470.0], [2555.0, 462.0]]}, {'text': '4', 'confidence': 0.9986521601676941, 'text_region': [[152.0, 405.0], [192.0, 405.0], [192.0, 463.0], [152.0, 463.0]]}, {'text': '2110993832', 'confidence': 0.9976381063461304, 'text_region': [[328.0, 409.0], [609.0, 409.0], [609.0, 466.0], [328.0, 466.0]]}, {'text': 'Shivam Pandey', 'confidence': 0.9574026465415955, 'text_region': [[643.0, 408.0], [996.0, 415.0], [995.0, 479.0], [642.0, 472.0]]}, {'text': 'shivam3832.be21@chitkara.edu.in', 'confidence': 0.9884561896324158, 'text_region': [[1440.0, 415.0], [2223.0, 408.0], [2224.0, 466.0], [1441.0, 473.0]]}, {'text': '5', 'confidence': 0.9785011410713196, 'text_region': [[143.0, 485.0], [182.0, 485.0], [182.0, 546.0], [143.0, 546.0]]}, {'text': '82', 'confidence': 0.7185071110725403, 'text_region': [[2574.0, 479.0], [2756.0, 479.0], [2756.0, 559.0], [2574.0, 559.0]]}, {'text': '2110993839', 'confidence': 0.9976757168769836, 'text_region': [[319.0, 489.0], [597.0, 489.0], [597.0, 546.0], [319.0, 546.0]]}, {'text': 'SOHIL DHIMAN', 'confidence': 0.9621644616127014, 'text_region': [[645.0, 495.0], [1047.0, 495.0], [1047.0, 549.0], [645.0, 549.0]]}, {'text': 'sohil3839.be21@chitkara.edu.in', 'confidence': 0.9800654053688049, 'text_region': [[1437.0, 495.0], [2172.0, 495.0], [2172.0, 549.0], [1437.0, 549.0]]}, {'text': '6', 'confidence': 0.9861018657684326, 'text_region': [[128.0, 569.0], [179.0, 569.0], [179.0, 630.0], [128.0, 630.0]]}, {'text': '36', 'confidence': 0.9920941591262817, 'text_region': [[2562.0, 562.0], [2732.0, 562.0], [2732.0, 642.0], [2562.0, 642.0]]}, {'text': '2110993852', 'confidence': 0.9975963830947876, 'text_region': [[309.0, 572.0], [594.0, 572.0], [594.0, 626.0], [309.0, 626.0]]}, {'text': 'Vrinda Vritti', 'confidence': 0.9489549994468689, 'text_region': [[642.0, 575.0], [929.0, 575.0], [929.0, 630.0], [642.0, 630.0]]}, {'text': 'vrinda3852.be21@chitkara.edu.in', 'confidence': 0.9847683906555176, 'text_region': [[1434.0, 572.0], [2208.0, 572.0], [2208.0, 636.0], [1434.0, 636.0]]}, {'text': '7', 'confidence': 0.9981409311294556, 'text_region': [[125.0, 655.0], [167.0, 655.0], [167.0, 710.0], [125.0, 710.0]]}, {'text': '2110993858', 'confidence': 0.9736341238021851, 'text_region': [[300.0, 652.0], [588.0, 652.0], [588.0, 710.0], [300.0, 710.0]]}, {'text': 'ADVITIYA BHARTIGUPTA', 'confidence': 0.9566539525985718, 'text_region': [[630.0, 655.0], [1323.0, 658.0], [1322.0, 713.0], [630.0, 710.0]]}, {'text': '22', 'confidence': 0.9602898359298706, 'text_region': [[2571.0, 646.0], [2732.0, 646.0], [2732.0, 729.0], [2571.0, 729.0]]}, {'text': 'advitiya3858.be21@chitkara.edu.in', 'confidence': 0.986611545085907, 'text_region': [[1434.0, 665.0], [2245.0, 665.0], [2245.0, 710.0], [1434.0, 710.0]]}, {'text': '8', 'confidence': 0.9955339431762695, 'text_region': [[110.0, 735.0], [161.0, 735.0], [161.0, 796.0], [110.0, 796.0]]}, {'text': '2110993876', 'confidence': 0.9973891377449036, 'text_region': [[292.0, 732.0], [579.0, 739.0], [578.0, 797.0], [291.0, 789.0]]}, {'text': 'Jatin', 'confidence': 0.9898037910461426, 'text_region': [[609.0, 738.0], [736.0, 738.0], [736.0, 796.0], [609.0, 796.0]]}, {'text': '89', 'confidence': 0.817832350730896, 'text_region': [[2559.0, 729.0], [2741.0, 729.0], [2741.0, 809.0], [2559.0, 809.0]]}, {'text': 'jatin3876.be21@chitkara.edu.in', 'confidence': 0.9817367792129517, 'text_region': [[1428.0, 742.0], [2166.0, 742.0], [2166.0, 796.0], [1428.0, 796.0]]}], 'img_idx': 0}\n",
      "{'type': 'table', 'bbox': [2, 2, 2902, 846], 'res': {'cell_bbox': [[77.18093872070312, 53.411861419677734, 294.1208190917969, 52.78483581542969, 291.7183532714844, 134.14382934570312, 75.51942443847656, 133.581787109375], [321.59246826171875, 52.71141815185547, 666.1033935546875, 51.08963394165039, 666.9976806640625, 137.8990020751953, 319.87994384765625, 140.77398681640625], [674.2757568359375, 56.49442672729492, 1370.811279296875, 55.55826187133789, 1365.6822509765625, 153.6116485595703, 667.804443359375, 156.05288696289062], [1411.7489013671875, 39.058189392089844, 2421.45458984375, 38.65629196166992, 2413.269287109375, 157.95974731445312, 1399.6741943359375, 161.5636444091797], [2498.41015625, 27.577465057373047, 2817.449462890625, 27.67369842529297, 2816.04931640625, 136.0488739013672, 2494.283935546875, 139.091552734375], [78.69943237304688, 152.60528564453125, 270.7726745605469, 153.36865234375, 268.3374938964844, 229.8872528076172, 77.37937927246094, 228.00466918945312], [306.7344055175781, 156.5012664794922, 634.6778564453125, 156.5247802734375, 637.6915283203125, 230.16883850097656, 306.9828186035156, 230.03402709960938], [667.8455200195312, 163.081298828125, 1398.744140625, 164.32388305664062, 1399.0555419921875, 239.31796264648438, 664.8743286132812, 238.18243408203125], [1355.261962890625, 158.91502380371094, 2427.642578125, 159.2720489501953, 2419.7373046875, 231.951171875, 1340.78271484375, 231.8065643310547], [2497.003173828125, 140.7534942626953, 2835.1318359375, 141.51553344726562, 2833.32763671875, 226.38853454589844, 2488.87109375, 226.31996154785156], [65.52729797363281, 225.64271545410156, 266.5603332519531, 226.10643005371094, 264.5914001464844, 305.7314147949219, 64.22798156738281, 305.19866943359375], [300.4051513671875, 229.6991424560547, 627.6370849609375, 229.46827697753906, 628.8805541992188, 308.20587158203125, 299.66973876953125, 308.150634765625], [642.0924072265625, 235.51239013671875, 1393.872802734375, 235.68946838378906, 1390.5120849609375, 313.6444396972656, 637.341552734375, 313.431396484375], [1317.208740234375, 231.7664031982422, 2451.603759765625, 231.25958251953125, 2445.895263671875, 308.8656921386719, 1303.4722900390625, 309.54644775390625], [2492.277099609375, 218.00563049316406, 2837.860595703125, 218.41986083984375, 2836.2177734375, 303.59783935546875, 2484.453125, 303.35992431640625], [66.82249450683594, 304.03472900390625, 282.0725402832031, 304.88623046875, 280.2221374511719, 386.6684265136719, 65.54530334472656, 385.478271484375], [303.45220947265625, 309.462890625, 620.4922485351562, 309.80889892578125, 623.1405639648438, 389.3999938964844, 303.48931884765625, 388.7580261230469], [650.1890258789062, 315.0235900878906, 1420.895751953125, 315.58984375, 1421.6199951171875, 394.74908447265625, 647.6290283203125, 394.03955078125], [1321.6029052734375, 311.2757263183594, 2454.26806640625, 310.6139221191406, 2450.250732421875, 387.32049560546875, 1311.46875, 387.9120178222656], [2492.938720703125, 298.8232116699219, 2836.312744140625, 299.23150634765625, 2834.8671875, 382.11920166015625, 2486.32275390625, 381.81280517578125], [43.48299026489258, 381.17919921875, 293.7698974609375, 383.3831481933594, 292.3163757324219, 467.1951904296875, 42.58103942871094, 464.8635559082031], [294.70294189453125, 385.6448669433594, 602.7733764648438, 387.13507080078125, 605.3702392578125, 468.76190185546875, 295.12725830078125, 467.3177795410156], [627.7379150390625, 391.1749572753906, 1388.052978515625, 392.29986572265625, 1388.15869140625, 471.83154296875, 624.79345703125, 470.6624755859375], [1335.265869140625, 388.1279602050781, 2436.634033203125, 388.20587158203125, 2431.791015625, 466.92767333984375, 1323.73974609375, 466.65032958984375], [2496.74267578125, 378.1993103027344, 2836.655029296875, 379.28985595703125, 2835.344970703125, 463.0592041015625, 2490.49365234375, 461.8836975097656], [30.72698974609375, 464.3199462890625, 313.07061767578125, 466.6629638671875, 312.179931640625, 556.3958740234375, 30.268190383911133, 553.8281860351562], [289.2887268066406, 468.4174499511719, 595.8877563476562, 469.8834533691406, 596.4830322265625, 554.5897216796875, 288.8284912109375, 552.9579467773438], [628.8878784179688, 474.2157897949219, 1403.82958984375, 475.3079833984375, 1403.411865234375, 558.608154296875, 625.6944580078125, 557.29052734375], [1331.3336181640625, 472.1239013671875, 2444.4404296875, 472.2615966796875, 2439.627685546875, 552.518310546875, 1320.051025390625, 552.0608520507812], [2498.010986328125, 464.367431640625, 2848.36279296875, 465.9563903808594, 2847.334716796875, 550.1940307617188, 2492.5478515625, 548.550048828125], [34.67326354980469, 546.771728515625, 310.9336242675781, 549.9392700195312, 309.29742431640625, 636.29931640625, 34.09601974487305, 633.3029174804688], [295.62725830078125, 548.4899291992188, 592.7195434570312, 551.2765502929688, 590.7445068359375, 635.8048706054688, 293.6688232421875, 633.44140625], [644.00048828125, 555.40234375, 1430.4764404296875, 558.2968139648438, 1427.9451904296875, 642.0806274414062, 639.1861572265625, 639.7609252929688], [1355.280517578125, 553.7989501953125, 2463.173828125, 555.1538696289062, 2458.091552734375, 632.9512329101562, 1343.58935546875, 631.7772827148438], [2497.72998046875, 548.2880249023438, 2845.921875, 550.8347778320312, 2844.7099609375, 633.2853393554688, 2491.25732421875, 631.2947998046875], [21.439861297607422, 622.0621948242188, 275.0307312011719, 626.7249755859375, 272.8866271972656, 716.0162353515625, 20.947689056396484, 712.8999633789062], [294.3055114746094, 626.7020874023438, 594.032958984375, 630.93701171875, 589.4039306640625, 718.6359252929688, 290.91925048828125, 716.0004272460938], [616.7734985351562, 635.1708984375, 1458.4642333984375, 638.6534423828125, 1452.98779296875, 724.3900146484375, 608.728759765625, 722.3687133789062], [1354.254150390625, 634.4182739257812, 2453.64697265625, 636.61328125, 2446.173095703125, 716.9275512695312, 1336.117431640625, 715.7064208984375], [2508.104736328125, 630.6099853515625, 2837.369384765625, 633.6978759765625, 2835.676513671875, 716.662841796875, 2499.669677734375, 714.6909790039062], [15.13122272491455, 704.609130859375, 241.9843292236328, 708.6781616210938, 239.43601989746094, 802.3621826171875, 14.688372611999512, 800.694580078125], [311.8622741699219, 711.241455078125, 560.5134887695312, 715.0479125976562, 554.8751220703125, 799.4849243164062, 305.9078063964844, 797.9357299804688], [640.6716918945312, 716.3438110351562, 1409.525146484375, 719.2172241210938, 1406.17822265625, 800.93017578125, 631.7709350585938, 799.7479248046875], [1358.0673828125, 717.3341064453125, 2451.200927734375, 719.0027465820312, 2446.0185546875, 799.5389404296875, 1342.6748046875, 798.8406982421875], [2493.368408203125, 714.5771484375, 2861.85693359375, 717.1051025390625, 2860.8515625, 800.2007446289062, 2485.7373046875, 799.1841430664062]], 'html': '<html><body><table><tbody><tr><td>Sr. No.</td><td>Roll No.</td><td>Name</td><td>Email Id</td><td>Grade</td></tr><tr><td>1</td><td>2110993771</td><td>Baashi Nazir</td><td>baashi3771.be21@chitkara.edu.in</td><td>41</td></tr><tr><td>2</td><td>2110993795</td><td>Hitakshi</td><td>hitakshi3795.be21@chitkara.edu.in</td><td>3</td></tr><tr><td>3</td><td>2110993811</td><td>Mehakpreet</td><td>mehakpreet3811.be21@chitkara.edu.in</td><td>64</td></tr><tr><td>4</td><td>2110993832</td><td>Shivam Pandey</td><td>shivam3832.be21@chitkara.edu.in</td><td>29</td></tr><tr><td>5</td><td>2110993839</td><td>SOHIL DHIMAN</td><td>sohil3839.be21@chitkara.edu.in</td><td>82</td></tr><tr><td>6</td><td>2110993852</td><td>Vrinda Vritti</td><td>vrinda3852.be21@chitkara.edu.in</td><td>36</td></tr><tr><td>7</td><td>2110993858</td><td>ADVITIYA BHARTI GUPTA</td><td>advitiya3858.be21@chitkara.edu.in</td><td>22</td></tr><tr><td>8</td><td>2110993876</td><td>Jatin</td><td>jatin3876.be21@chitkara.edu.in</td><td>89</td></tr></tbody></table></body></html>'}, 'img_idx': 0}\n"
     ]
    }
   ],
   "source": [
    "import os\n",
    "import cv2\n",
    "from paddleocr import PPStructure,draw_structure_result,save_structure_res\n",
    "\n",
    "table_engine = PPStructure(show_log=True, image_orientation=True)\n",
    "\n",
    "save_folder = './output'\n",
    "img_path = '/home/shivam/Documents/Github/Text-Extractor/image_processing/rotated.jpg'\n",
    "img = cv2.imread(img_path)\n",
    "result = table_engine(img)\n",
    "save_structure_res(result, save_folder,os.path.basename(img_path).split('.')[0])\n",
    "\n",
    "for line in result:\n",
    "    line.pop('img')\n",
    "    print(line)\n",
    "\n",
    "from PIL import Image\n",
    "\n",
    "font_path = '/home/shivam/Documents/Github/PaddleOCR/doc/fonts/simfang.ttf' # PaddleOCR下提供字体包\n",
    "image = Image.open(img_path).convert('RGB')\n",
    "im_show = draw_structure_result(image, result,font_path=font_path)\n",
    "im_show = Image.fromarray(im_show)\n",
    "im_show.save('result.jpg')"
   ]
  },
  {
   "cell_type": "code",
   "execution_count": null,
   "id": "1e9db186-1954-4c8c-82d6-3254aa145a5c",
   "metadata": {},
   "outputs": [],
   "source": []
  },
  {
   "cell_type": "code",
   "execution_count": null,
   "id": "29b3946b-fbb8-4fd5-84f5-7ec3f118d51e",
   "metadata": {
    "scrolled": true
   },
   "outputs": [],
   "source": []
  },
  {
   "cell_type": "code",
   "execution_count": 3,
   "id": "d9e35436-95c5-4690-818f-925cea651b61",
   "metadata": {},
   "outputs": [],
   "source": [
    "from paddleocr import PaddleOCR, draw_ocr"
   ]
  },
  {
   "cell_type": "code",
   "execution_count": 4,
   "id": "df889185-5852-49ca-a02b-b9a546f8bc08",
   "metadata": {},
   "outputs": [
    {
     "name": "stdout",
     "output_type": "stream",
     "text": [
      "[2023/10/13 14:39:10] ppocr DEBUG: Namespace(alpha=1.0, alphacolor=(255, 255, 255), benchmark=False, beta=1.0, binarize=False, cls_batch_num=6, cls_image_shape='3, 48, 192', cls_model_dir='/home/shivam/.paddleocr/whl/cls/ch_ppocr_mobile_v2.0_cls_infer', cls_thresh=0.9, cpu_threads=10, crop_res_save_dir='./output', det=True, det_algorithm='DB', det_box_type='quad', det_db_box_thresh=0.6, det_db_score_mode='fast', det_db_thresh=0.3, det_db_unclip_ratio=1.5, det_east_cover_thresh=0.1, det_east_nms_thresh=0.2, det_east_score_thresh=0.8, det_limit_side_len=960, det_limit_type='max', det_model_dir='/home/shivam/.paddleocr/whl/det/en/en_PP-OCRv3_det_infer', det_pse_box_thresh=0.85, det_pse_min_area=16, det_pse_scale=1, det_pse_thresh=0, det_sast_nms_thresh=0.2, det_sast_score_thresh=0.5, draw_img_save_dir='./inference_results', drop_score=0.5, e2e_algorithm='PGNet', e2e_char_dict_path='./ppocr/utils/ic15_dict.txt', e2e_limit_side_len=768, e2e_limit_type='max', e2e_model_dir=None, e2e_pgnet_mode='fast', e2e_pgnet_score_thresh=0.5, e2e_pgnet_valid_set='totaltext', enable_mkldnn=False, fourier_degree=5, gpu_id=0, gpu_mem=500, help='==SUPPRESS==', image_dir=None, image_orientation=False, invert=False, ir_optim=True, kie_algorithm='LayoutXLM', label_list=['0', '180'], lang='en', layout=True, layout_dict_path=None, layout_model_dir=None, layout_nms_threshold=0.5, layout_score_threshold=0.5, max_batch_size=10, max_text_length=25, merge_no_span_structure=True, min_subgraph_size=15, mode='structure', ocr=True, ocr_order_method=None, ocr_version='PP-OCRv4', output='./output', page_num=0, precision='fp32', process_id=0, re_model_dir=None, rec=True, rec_algorithm='SVTR_LCNet', rec_batch_num=6, rec_char_dict_path='/home/shivam/.local/lib/python3.8/site-packages/paddleocr/ppocr/utils/en_dict.txt', rec_image_inverse=True, rec_image_shape='3, 48, 320', rec_model_dir='/home/shivam/.paddleocr/whl/rec/en/en_PP-OCRv4_rec_infer', recovery=False, save_crop_res=False, save_log_path='./log_output/', scales=[8, 16, 32], ser_dict_path='../train_data/XFUND/class_list_xfun.txt', ser_model_dir=None, show_log=True, sr_batch_num=1, sr_image_shape='3, 32, 128', sr_model_dir=None, structure_version='PP-StructureV2', table=True, table_algorithm='TableAttn', table_char_dict_path=None, table_max_len=488, table_model_dir=None, total_process_num=1, type='ocr', use_angle_cls=False, use_dilation=False, use_gpu=False, use_mp=False, use_npu=False, use_onnx=False, use_pdf2docx_api=False, use_pdserving=False, use_space_char=True, use_tensorrt=False, use_visual_backbone=True, use_xpu=False, vis_font_path='./doc/fonts/simfang.ttf', warmup=False)\n",
      "[2023/10/13 14:39:11] ppocr WARNING: Since the angle classifier is not initialized, it will not be used during the forward process\n",
      "[2023/10/13 14:39:11] ppocr DEBUG: dt_boxes num : 47, elapsed : 0.3568837642669678\n",
      "[2023/10/13 14:39:18] ppocr DEBUG: rec_res num  : 47, elapsed : 6.727340221405029\n"
     ]
    }
   ],
   "source": [
    "ocr = PaddleOCR(lang='en')\n",
    "image_path = '/home/shivam/Documents/Github/Text-Extractor/image_processing/rotated.jpg'\n",
    "image_cv = cv2.imread(image_path)\n",
    "image_height = image_cv.shape[0]\n",
    "image_width = image_cv.shape[1]\n",
    "output = ocr.ocr(image_path)[0]"
   ]
  },
  {
   "cell_type": "code",
   "execution_count": 5,
   "id": "04d3286f-fd7c-476b-8a12-2fc577b78979",
   "metadata": {},
   "outputs": [
    {
     "name": "stdout",
     "output_type": "stream",
     "text": [
      "[[[[115.0, 75.0], [297.0, 75.0], [297.0, 138.0], [115.0, 138.0]],\n",
      "  ('Sr.No.', 0.9259076118469238)],\n",
      " [[[2559.0, 69.0], [2731.0, 69.0], [2731.0, 120.0], [2559.0, 120.0]],\n",
      "  ('Grade', 0.9982072114944458)],\n",
      " [[[395.0, 83.0], [603.0, 90.0], [601.0, 144.0], [393.0, 137.0]],\n",
      "  ('Roll No.', 0.9687527418136597)],\n",
      " [[[1831.0, 84.0], [2064.0, 77.0], [2066.0, 131.0], [1833.0, 138.0]],\n",
      "  ('Email Id', 0.9764333963394165)],\n",
      " [[[978.0, 99.0], [1142.0, 99.0], [1142.0, 152.0], [978.0, 152.0]],\n",
      "  ('Name', 0.9988957643508911)],\n",
      " [[[2571.0, 144.0], [2688.0, 162.0], [2677.0, 236.0], [2559.0, 218.0]],\n",
      "  ('41', 0.5651257038116455)],\n",
      " [[[176.0, 179.0], [218.0, 179.0], [218.0, 224.0], [176.0, 224.0]],\n",
      "  ('1', 0.9952693581581116)],\n",
      " [[[346.0, 170.0], [627.0, 180.0], [626.0, 231.0], [345.0, 221.0]],\n",
      "  ('2110993771', 0.9986019134521484)],\n",
      " [[[664.0, 179.0], [957.0, 186.0], [956.0, 240.0], [663.0, 233.0]],\n",
      "  ('Baashi Nazir', 0.9877542853355408)],\n",
      " [[[1444.0, 183.0], [2201.0, 170.0], [2202.0, 221.0], [1445.0, 233.0]],\n",
      "  ('baashi3771.be21@chitkara.edu.in', 0.9957787990570068)],\n",
      " [[[2579.0, 234.0], [2709.0, 212.0], [2723.0, 292.0], [2593.0, 314.0]],\n",
      "  ('S3', 0.7676696181297302)],\n",
      " [[[160.0, 251.0], [215.0, 251.0], [215.0, 308.0], [160.0, 308.0]],\n",
      "  ('2', 0.9967162609100342)],\n",
      " [[[340.0, 248.0], [621.0, 254.0], [620.0, 308.0], [339.0, 302.0]],\n",
      "  ('2110993795', 0.9988672137260437)],\n",
      " [[[662.0, 254.0], [858.0, 261.0], [856.0, 315.0], [659.0, 307.0]],\n",
      "  ('Hitakshi', 0.9972890615463257)],\n",
      " [[[1444.0, 260.0], [2234.0, 248.0], [2235.0, 299.0], [1445.0, 311.0]],\n",
      "  ('hitakshi3795.be21@chitkara.edu.in', 0.9818668961524963)],\n",
      " [[[2565.0, 302.0], [2725.0, 302.0], [2725.0, 392.0], [2565.0, 392.0]],\n",
      "  ('64', 0.9783775210380554)],\n",
      " [[[148.0, 329.0], [206.0, 329.0], [206.0, 386.0], [148.0, 386.0]],\n",
      "  ('3', 0.9974740147590637)],\n",
      " [[[331.0, 328.0], [615.0, 335.0], [614.0, 386.0], [330.0, 379.0]],\n",
      "  ('2110993811', 0.9986339807510376)],\n",
      " [[[654.0, 341.0], [927.0, 341.0], [927.0, 392.0], [654.0, 392.0]],\n",
      "  ('Mehakpreet', 0.9969361424446106)],\n",
      " [[[1438.0, 341.0], [2319.0, 329.0], [2320.0, 379.0], [1439.0, 392.0]],\n",
      "  ('mehakpreet3811.be21@chitkara.edu.in', 0.995600700378418)],\n",
      " [[[142.0, 413.0], [200.0, 413.0], [200.0, 466.0], [142.0, 466.0]],\n",
      "  ('4', 0.9989863038063049)],\n",
      " [[[327.0, 413.0], [609.0, 413.0], [609.0, 463.0], [327.0, 463.0]],\n",
      "  ('2110993832', 0.9991763830184937)],\n",
      " [[[2650.0, 404.0], [2704.0, 404.0], [2704.0, 463.0], [2650.0, 463.0]],\n",
      "  ('9', 0.9619664549827576)],\n",
      " [[[651.0, 419.0], [993.0, 419.0], [993.0, 469.0], [651.0, 469.0]],\n",
      "  ('Shivam Pandey', 0.9851772785186768)],\n",
      " [[[1435.0, 419.0], [2222.0, 412.0], [2223.0, 463.0], [1436.0, 470.0]],\n",
      "  ('shivam3832.be21@chitkara.edu.in', 0.9973933696746826)],\n",
      " [[[316.0, 487.0], [600.0, 494.0], [599.0, 545.0], [314.0, 538.0]],\n",
      "  ('2110993839', 0.9986759424209595)],\n",
      " [[[2580.0, 478.0], [2659.0, 478.0], [2659.0, 562.0], [2580.0, 562.0]],\n",
      "  ('8', 0.9582211375236511)],\n",
      " [[[642.0, 493.0], [1048.0, 496.0], [1047.0, 547.0], [642.0, 544.0]],\n",
      "  ('SOHIL DHIMAN', 0.9758572578430176)],\n",
      " [[[2671.0, 487.0], [2725.0, 487.0], [2725.0, 547.0], [2671.0, 547.0]],\n",
      "  ('7', 0.7901531457901001)],\n",
      " [[[1438.0, 502.0], [2174.0, 502.0], [2174.0, 544.0], [1438.0, 544.0]],\n",
      "  ('sohil3839.be21@chitkara.edu.in', 0.9938703775405884)],\n",
      " [[[309.0, 574.0], [594.0, 574.0], [594.0, 625.0], [309.0, 625.0]],\n",
      "  ('2110993852', 0.9990288615226746)],\n",
      " [[[637.0, 574.0], [933.0, 580.0], [932.0, 631.0], [635.0, 624.0]],\n",
      "  ('Vrinda Vritti', 0.98227459192276)],\n",
      " [[[1438.0, 583.0], [2208.0, 583.0], [2208.0, 625.0], [1438.0, 625.0]],\n",
      "  ('vrinda3852.be21@chitkara.edu.in', 0.9967914819717407)],\n",
      " [[[112.0, 601.0], [154.0, 559.0], [194.0, 598.0], [151.0, 640.0]],\n",
      "  ('6', 0.5674462914466858)],\n",
      " [[[298.0, 645.0], [588.0, 652.0], [587.0, 712.0], [296.0, 705.0]],\n",
      "  ('2110993858', 0.99830561876297)],\n",
      " [[[118.0, 655.0], [173.0, 655.0], [173.0, 712.0], [118.0, 712.0]],\n",
      "  ('7', 0.9812014102935791)],\n",
      " [[[630.0, 655.0], [1323.0, 658.0], [1323.0, 709.0], [630.0, 705.0]],\n",
      "  ('ADVITIYA BHARTI GUPTA', 0.9648102521896362)],\n",
      " [[[2659.0, 646.0], [2719.0, 646.0], [2719.0, 729.0], [2659.0, 729.0]],\n",
      "  ('2', 0.7036360502243042)],\n",
      " [[[1429.0, 661.0], [2247.0, 658.0], [2247.0, 708.0], [1429.0, 712.0]],\n",
      "  ('advitiya3858.be21@chitkara.edu.in', 0.9968101978302002)],\n",
      " [[[109.0, 738.0], [160.0, 738.0], [160.0, 795.0], [109.0, 795.0]],\n",
      "  ('8', 0.9930403232574463)],\n",
      " [[[294.0, 738.0], [578.0, 738.0], [578.0, 789.0], [294.0, 789.0]],\n",
      "  ('2110993876', 0.9987292289733887)],\n",
      " [[[2571.0, 729.0], [2637.0, 729.0], [2637.0, 801.0], [2571.0, 801.0]],\n",
      "  ('8', 0.8438206911087036)],\n",
      " [[[621.0, 744.0], [733.0, 744.0], [733.0, 789.0], [621.0, 789.0]],\n",
      "  ('Jatin', 0.9983533024787903)],\n",
      " [[[2665.0, 735.0], [2728.0, 735.0], [2728.0, 807.0], [2665.0, 807.0]],\n",
      "  ('9', 0.8267375826835632)],\n",
      " [[[1429.0, 750.0], [2165.0, 750.0], [2165.0, 792.0], [1429.0, 792.0]],\n",
      "  ('jatin3876.be21@chitkara.edu.in', 0.9810453057289124)]]\n"
     ]
    }
   ],
   "source": [
    "from pprint import pprint\n",
    "pprint(output)"
   ]
  },
  {
   "cell_type": "markdown",
   "id": "9cb27883-041c-427b-83e6-5f31838a75b0",
   "metadata": {},
   "source": [
    "## OCR FINISHED"
   ]
  },
  {
   "cell_type": "markdown",
   "id": "256e39e9-20ea-4188-9949-b27adabf57df",
   "metadata": {},
   "source": [
    "## Ignore after this"
   ]
  },
  {
   "cell_type": "code",
   "execution_count": 6,
   "id": "1269e5d4-a6a2-43d8-b71e-2ee3424fd129",
   "metadata": {},
   "outputs": [],
   "source": [
    "boxes = [line[0] for line in output]\n",
    "texts = [line[1][0] for line in output]\n",
    "probabilities = [line[1][1] for line in output]"
   ]
  },
  {
   "cell_type": "code",
   "execution_count": 7,
   "id": "b6e6586a-3ea8-41ff-b4d1-828d22bb691b",
   "metadata": {},
   "outputs": [],
   "source": [
    "image_boxes = image_cv.copy()"
   ]
  },
  {
   "cell_type": "code",
   "execution_count": 8,
   "id": "05760d7d-0066-43f7-bd7a-e4870c2ddb1d",
   "metadata": {},
   "outputs": [],
   "source": [
    "for box,text in zip(boxes,texts):\n",
    "  cv2.rectangle(image_boxes, (int(box[0][0]),int(box[0][1])), (int(box[2][0]),int(box[2][1])),(0,0,255),1)\n",
    "  cv2.putText(image_boxes, text,(int(box[0][0]),int(box[0][1])),cv2.FONT_HERSHEY_SIMPLEX,1,(222,0,0),1)"
   ]
  },
  {
   "cell_type": "code",
   "execution_count": 9,
   "id": "7eab53e9-75cd-4f87-b190-4cda69848f36",
   "metadata": {},
   "outputs": [
    {
     "data": {
      "text/plain": [
       "True"
      ]
     },
     "execution_count": 9,
     "metadata": {},
     "output_type": "execute_result"
    }
   ],
   "source": [
    "cv2.imwrite('detections.jpg', image_boxes)"
   ]
  },
  {
   "cell_type": "code",
   "execution_count": 10,
   "id": "fd8da732-e020-43d4-b7f1-fbe47cec08c1",
   "metadata": {},
   "outputs": [],
   "source": [
    "im = image_cv.copy()"
   ]
  },
  {
   "cell_type": "code",
   "execution_count": 11,
   "id": "da5a698c-4de6-49c0-ba95-ef62863a4d8d",
   "metadata": {},
   "outputs": [],
   "source": [
    "horiz_boxes = []\n",
    "vert_boxes = []\n",
    "\n",
    "for box in boxes:\n",
    "  x_h, x_v = 0,int(box[0][0])\n",
    "  y_h, y_v = int(box[0][1]),0\n",
    "  width_h,width_v = image_width, int(box[2][0]-box[0][0])\n",
    "  height_h,height_v = int(box[2][1]-box[0][1]),image_height\n",
    "\n",
    "  horiz_boxes.append([x_h,y_h,x_h+width_h,y_h+height_h])\n",
    "  vert_boxes.append([x_v,y_v,x_v+width_v,y_v+height_v])\n",
    "\n",
    "  cv2.rectangle(im,(x_h,y_h), (x_h+width_h,y_h+height_h),(0,0,255),1)\n",
    "  cv2.rectangle(im,(x_v,y_v), (x_v+width_v,y_v+height_v),(0,255,0),1)\n",
    "  "
   ]
  },
  {
   "cell_type": "code",
   "execution_count": 12,
   "id": "de38375e-35be-4404-abc2-1fa020555a9c",
   "metadata": {},
   "outputs": [
    {
     "data": {
      "text/plain": [
       "True"
      ]
     },
     "execution_count": 12,
     "metadata": {},
     "output_type": "execute_result"
    }
   ],
   "source": [
    "cv2.imwrite('horiz_vert.jpg',im)"
   ]
  },
  {
   "cell_type": "code",
   "execution_count": 13,
   "id": "28c2a3d9-cc74-4057-8f2a-41e5e892fbb7",
   "metadata": {},
   "outputs": [],
   "source": [
    "# !pip install tensorflow"
   ]
  },
  {
   "cell_type": "code",
   "execution_count": 14,
   "id": "a1ead62d-ccb7-4dba-bd04-8068a2e89730",
   "metadata": {},
   "outputs": [
    {
     "name": "stderr",
     "output_type": "stream",
     "text": [
      "2023-10-13 14:39:19.231150: I tensorflow/core/platform/cpu_feature_guard.cc:182] This TensorFlow binary is optimized to use available CPU instructions in performance-critical operations.\n",
      "To enable the following instructions: AVX2 FMA, in other operations, rebuild TensorFlow with the appropriate compiler flags.\n",
      "2023-10-13 14:39:20.028030: W tensorflow/compiler/tf2tensorrt/utils/py_utils.cc:38] TF-TRT Warning: Could not find TensorRT\n"
     ]
    }
   ],
   "source": [
    "import tensorflow as tf\n",
    "import numpy as np"
   ]
  },
  {
   "cell_type": "code",
   "execution_count": 15,
   "id": "46225b08-6f36-4085-bee3-12b5e1d99716",
   "metadata": {},
   "outputs": [
    {
     "name": "stderr",
     "output_type": "stream",
     "text": [
      "2023-10-13 14:39:21.513122: E tensorflow/compiler/xla/stream_executor/cuda/cuda_driver.cc:268] failed call to cuInit: CUDA_ERROR_NO_DEVICE: no CUDA-capable device is detected\n"
     ]
    }
   ],
   "source": [
    "horiz_out = tf.image.non_max_suppression(\n",
    "    horiz_boxes,\n",
    "    probabilities,\n",
    "    max_output_size = 1000,\n",
    "    iou_threshold=0.1,\n",
    "    score_threshold=float('-inf'),\n",
    "    name=None\n",
    ")"
   ]
  },
  {
   "cell_type": "code",
   "execution_count": 16,
   "id": "4679b8b7-f95d-4932-bd4f-bd70b31bbae9",
   "metadata": {},
   "outputs": [
    {
     "name": "stdout",
     "output_type": "stream",
     "text": [
      "[ 4  7 12 17 21 25 30 33 34 40]\n"
     ]
    }
   ],
   "source": [
    "horiz_lines = np.sort(np.array(horiz_out))\n",
    "print(horiz_lines)"
   ]
  },
  {
   "cell_type": "code",
   "execution_count": 17,
   "id": "120c9d92-b297-47e3-9ebb-201fd7fb2de6",
   "metadata": {},
   "outputs": [],
   "source": [
    "im_nms = image_cv.copy()"
   ]
  },
  {
   "cell_type": "code",
   "execution_count": 18,
   "id": "575eabce-bb3c-45ef-951b-2271610eb78a",
   "metadata": {},
   "outputs": [],
   "source": [
    "for val in horiz_lines:\n",
    "  cv2.rectangle(im_nms, (int(horiz_boxes[val][0]),int(horiz_boxes[val][1])), (int(horiz_boxes[val][2]),int(horiz_boxes[val][3])),(0,0,255),1)"
   ]
  },
  {
   "cell_type": "code",
   "execution_count": 19,
   "id": "ed907b8b-e1d2-4ed4-83ae-5c33c4f0665a",
   "metadata": {},
   "outputs": [
    {
     "data": {
      "text/plain": [
       "True"
      ]
     },
     "execution_count": 19,
     "metadata": {},
     "output_type": "execute_result"
    }
   ],
   "source": [
    "cv2.imwrite('im_nms.jpg',im_nms)"
   ]
  },
  {
   "cell_type": "code",
   "execution_count": 20,
   "id": "d89db591-f17b-47fd-9a49-6db66bd8672c",
   "metadata": {},
   "outputs": [],
   "source": [
    "vert_out = tf.image.non_max_suppression(\n",
    "    vert_boxes,\n",
    "    probabilities,\n",
    "    max_output_size = 1000,\n",
    "    iou_threshold=0.1,\n",
    "    score_threshold=float('-inf'),\n",
    "    name=None\n",
    ")"
   ]
  },
  {
   "cell_type": "code",
   "execution_count": 21,
   "id": "9d0284d2-851a-4763-a890-8b559c9caa65",
   "metadata": {},
   "outputs": [
    {
     "name": "stdout",
     "output_type": "stream",
     "text": [
      "tf.Tensor([21 20  4 42  1 24], shape=(6,), dtype=int32)\n"
     ]
    }
   ],
   "source": [
    "print(vert_out)"
   ]
  },
  {
   "cell_type": "code",
   "execution_count": 22,
   "id": "55e5ebaf-5e37-498c-8f64-b8b2844471fb",
   "metadata": {},
   "outputs": [
    {
     "name": "stdout",
     "output_type": "stream",
     "text": [
      "[ 1  4 20 21 24 42]\n"
     ]
    }
   ],
   "source": [
    "vert_lines = np.sort(np.array(vert_out))\n",
    "print(vert_lines)"
   ]
  },
  {
   "cell_type": "code",
   "execution_count": 23,
   "id": "7f6f607c-2a4d-411d-822a-ad81e5844f8d",
   "metadata": {},
   "outputs": [],
   "source": [
    "for val in vert_lines:\n",
    "  cv2.rectangle(im_nms, (int(vert_boxes[val][0]),int(vert_boxes[val][1])), (int(vert_boxes[val][2]),int(vert_boxes[val][3])),(255,0,0),1)\n",
    "  "
   ]
  },
  {
   "cell_type": "code",
   "execution_count": 24,
   "id": "996d5b07-d7ca-42db-885e-147cc3329c11",
   "metadata": {},
   "outputs": [
    {
     "data": {
      "text/plain": [
       "True"
      ]
     },
     "execution_count": 24,
     "metadata": {},
     "output_type": "execute_result"
    }
   ],
   "source": [
    "cv2.imwrite('im_nms.jpg',im_nms)"
   ]
  },
  {
   "cell_type": "code",
   "execution_count": 25,
   "id": "2dfff883-6b54-457f-aa95-50d78ba84f08",
   "metadata": {},
   "outputs": [
    {
     "name": "stdout",
     "output_type": "stream",
     "text": [
      "(10, 6)\n",
      "[['', '', '', '', '', ''], ['', '', '', '', '', ''], ['', '', '', '', '', ''], ['', '', '', '', '', ''], ['', '', '', '', '', ''], ['', '', '', '', '', ''], ['', '', '', '', '', ''], ['', '', '', '', '', ''], ['', '', '', '', '', ''], ['', '', '', '', '', '']]\n"
     ]
    }
   ],
   "source": [
    "\n",
    "\n",
    "out_array = [[\"\" for i in range(len(vert_lines))] for j in range(len(horiz_lines))]\n",
    "print(np.array(out_array).shape)\n",
    "print(out_array)"
   ]
  },
  {
   "cell_type": "code",
   "execution_count": 26,
   "id": "c177e968-bdd7-4ec6-93c5-af21319d9339",
   "metadata": {},
   "outputs": [
    {
     "name": "stdout",
     "output_type": "stream",
     "text": [
      "[2559, 0, 2731, 861]\n",
      "[978, 0, 1142, 861]\n",
      "[142, 0, 200, 861]\n",
      "[327, 0, 609, 861]\n",
      "[1435, 0, 2223, 861]\n",
      "[621, 0, 733, 861]\n"
     ]
    }
   ],
   "source": [
    "\n",
    "unordered_boxes = []\n",
    "\n",
    "for i in vert_lines:\n",
    "  print(vert_boxes[i])\n",
    "  unordered_boxes.append(vert_boxes[i][0])"
   ]
  },
  {
   "cell_type": "code",
   "execution_count": 27,
   "id": "b64d28e8-d3ff-46b8-ab1a-1be099e4db44",
   "metadata": {},
   "outputs": [
    {
     "name": "stdout",
     "output_type": "stream",
     "text": [
      "[2 3 5 1 4 0]\n"
     ]
    }
   ],
   "source": [
    "ordered_boxes = np.argsort(unordered_boxes)\n",
    "print(ordered_boxes)"
   ]
  },
  {
   "cell_type": "code",
   "execution_count": 28,
   "id": "c167d2fd-b1bf-4412-970c-dafa4ff384b2",
   "metadata": {},
   "outputs": [],
   "source": [
    "def intersection(box_1, box_2):\n",
    "  return [box_2[0], box_1[1],box_2[2], box_1[3]]"
   ]
  },
  {
   "cell_type": "code",
   "execution_count": 29,
   "id": "8a623d0a-3180-4a8e-b3d3-bcd49f3ad629",
   "metadata": {},
   "outputs": [],
   "source": [
    "def iou(box_1, box_2):\n",
    "\n",
    "  x_1 = max(box_1[0], box_2[0])\n",
    "  y_1 = max(box_1[1], box_2[1])\n",
    "  x_2 = min(box_1[2], box_2[2])\n",
    "  y_2 = min(box_1[3], box_2[3])\n",
    "\n",
    "  inter = abs(max((x_2 - x_1, 0)) * max((y_2 - y_1), 0))\n",
    "  if inter == 0:\n",
    "      return 0\n",
    "      \n",
    "  box_1_area = abs((box_1[2] - box_1[0]) * (box_1[3] - box_1[1]))\n",
    "  box_2_area = abs((box_2[2] - box_2[0]) * (box_2[3] - box_2[1]))\n",
    "  \n",
    "  return inter / float(box_1_area + box_2_area - inter)"
   ]
  },
  {
   "cell_type": "code",
   "execution_count": 30,
   "id": "c8adcb00-9b80-4237-84b5-d1eb85bd788b",
   "metadata": {},
   "outputs": [],
   "source": [
    "for i in range(len(horiz_lines)):\n",
    "  for j in range(len(vert_lines)):\n",
    "    resultant = intersection(horiz_boxes[horiz_lines[i]], vert_boxes[vert_lines[ordered_boxes[j]]] )\n",
    "\n",
    "    for b in range(len(boxes)):\n",
    "      the_box = [boxes[b][0][0],boxes[b][0][1],boxes[b][2][0],boxes[b][2][1]]\n",
    "      if(iou(resultant,the_box)>0.1):\n",
    "        out_array[i][j] = texts[b]"
   ]
  },
  {
   "cell_type": "code",
   "execution_count": 31,
   "id": "4128e56d-aba1-49fd-9465-3f0be3160eba",
   "metadata": {},
   "outputs": [],
   "source": [
    "out_array=np.array(out_array)"
   ]
  },
  {
   "cell_type": "code",
   "execution_count": 32,
   "id": "3fab5ba5-a138-406b-a8d4-a3b391122aa1",
   "metadata": {},
   "outputs": [
    {
     "data": {
      "text/plain": [
       "array([['Sr.No.', 'Roll No.', '', 'Name', 'Email Id', 'Grade'],\n",
       "       ['1', '2110993771', 'Baashi Nazir', '',\n",
       "        'baashi3771.be21@chitkara.edu.in', '41'],\n",
       "       ['2', '2110993795', 'Hitakshi', '',\n",
       "        'hitakshi3795.be21@chitkara.edu.in', 'S3'],\n",
       "       ['3', '2110993811', 'Mehakpreet', '',\n",
       "        'mehakpreet3811.be21@chitkara.edu.in', '64'],\n",
       "       ['4', '2110993832', 'Shivam Pandey', '',\n",
       "        'shivam3832.be21@chitkara.edu.in', '9'],\n",
       "       ['', '2110993839', 'SOHIL DHIMAN', 'SOHIL DHIMAN',\n",
       "        'sohil3839.be21@chitkara.edu.in', '7'],\n",
       "       ['', '2110993852', 'Vrinda Vritti', '',\n",
       "        'vrinda3852.be21@chitkara.edu.in', ''],\n",
       "       ['', '', '', '', '', ''],\n",
       "       ['7', '2110993858', 'ADVITIYA BHARTI GUPTA',\n",
       "        'ADVITIYA BHARTI GUPTA', 'advitiya3858.be21@chitkara.edu.in',\n",
       "        '2'],\n",
       "       ['8', '2110993876', 'Jatin', '', 'jatin3876.be21@chitkara.edu.in',\n",
       "        '9']], dtype='<U35')"
      ]
     },
     "execution_count": 32,
     "metadata": {},
     "output_type": "execute_result"
    }
   ],
   "source": [
    "out_array"
   ]
  },
  {
   "cell_type": "code",
   "execution_count": 33,
   "id": "16ca3937-42ee-4e01-bcbb-6210255dfd2c",
   "metadata": {},
   "outputs": [
    {
     "name": "stdout",
     "output_type": "stream",
     "text": [
      "The array has been saved to output.csv.\n"
     ]
    }
   ],
   "source": [
    "# Specify the file path\n",
    "csv_file_path = 'output.csv'\n",
    "\n",
    "# Save the array to a CSV file\n",
    "np.savetxt(csv_file_path, out_array, delimiter=',', fmt='%s')\n",
    "\n",
    "print(f'The array has been saved to {csv_file_path}.')"
   ]
  },
  {
   "cell_type": "code",
   "execution_count": null,
   "id": "48f5da5f-be3c-4c99-8eb3-5068890e5f2b",
   "metadata": {},
   "outputs": [],
   "source": []
  },
  {
   "cell_type": "code",
   "execution_count": null,
   "id": "c8478183-00b6-4d30-ae77-cc16f6067a40",
   "metadata": {},
   "outputs": [],
   "source": []
  },
  {
   "cell_type": "code",
   "execution_count": null,
   "id": "e6baed63-b35b-442e-97ad-d51185c8b8c7",
   "metadata": {},
   "outputs": [],
   "source": []
  }
 ],
 "metadata": {
  "kernelspec": {
   "display_name": "Python 3 (ipykernel)",
   "language": "python",
   "name": "python3"
  },
  "language_info": {
   "codemirror_mode": {
    "name": "ipython",
    "version": 3
   },
   "file_extension": ".py",
   "mimetype": "text/x-python",
   "name": "python",
   "nbconvert_exporter": "python",
   "pygments_lexer": "ipython3",
   "version": "3.8.17"
  }
 },
 "nbformat": 4,
 "nbformat_minor": 5
}
